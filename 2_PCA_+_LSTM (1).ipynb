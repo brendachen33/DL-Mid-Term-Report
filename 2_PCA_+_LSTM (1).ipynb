{
  "cells": [
    {
      "cell_type": "markdown",
      "metadata": {
        "id": "P0nQZTjziHer"
      },
      "source": [
        "### GPU Available?"
      ]
    },
    {
      "cell_type": "code",
      "execution_count": 1,
      "metadata": {
        "colab": {
          "base_uri": "https://localhost:8080/"
        },
        "id": "cQChsjb-iGwX",
        "outputId": "154f28c5-64fc-4f54-ac6e-34e1dbd8c7d5"
      },
      "outputs": [
        {
          "output_type": "stream",
          "name": "stdout",
          "text": [
            "[name: \"/device:CPU:0\"\n",
            "device_type: \"CPU\"\n",
            "memory_limit: 268435456\n",
            "locality {\n",
            "}\n",
            "incarnation: 6797634698949205916\n",
            "xla_global_id: -1\n",
            ", name: \"/device:GPU:0\"\n",
            "device_type: \"GPU\"\n",
            "memory_limit: 11320098816\n",
            "locality {\n",
            "  bus_id: 1\n",
            "  links {\n",
            "  }\n",
            "}\n",
            "incarnation: 16422907871819656327\n",
            "physical_device_desc: \"device: 0, name: Tesla K80, pci bus id: 0000:00:04.0, compute capability: 3.7\"\n",
            "xla_global_id: 416903419\n",
            "]\n"
          ]
        }
      ],
      "source": [
        "from tensorflow.python.client import device_lib\n",
        "print(device_lib.list_local_devices())"
      ]
    },
    {
      "cell_type": "markdown",
      "metadata": {
        "id": "ZM9x0IGpV2MD"
      },
      "source": [
        "### Data Pulling"
      ]
    },
    {
      "cell_type": "raw",
      "metadata": {
        "id": "4jemwvQ4rm9T",
        "outputId": "a8e057a5-b11e-4079-cb19-417382d95036"
      },
      "source": [
        "from google.colab import drive\n",
        "drive.mount('/content/drive')\n",
        "\n",
        "path = r'/content/drive/My Drive/NCCU_Project'"
      ]
    },
    {
      "cell_type": "code",
      "execution_count": 2,
      "metadata": {
        "colab": {
          "base_uri": "https://localhost:8080/"
        },
        "id": "h-kt9w1-Urbz",
        "outputId": "cdb3ba02-55ea-4a6e-9f97-89b1ab53df61"
      },
      "outputs": [
        {
          "output_type": "stream",
          "name": "stdout",
          "text": [
            "Drive already mounted at /content/drive; to attempt to forcibly remount, call drive.mount(\"/content/drive\", force_remount=True).\n"
          ]
        }
      ],
      "source": [
        "from google.colab import drive\n",
        "drive.mount('/content/drive')\n",
        "\n",
        "path = r'/content/drive/My Drive/NCCU_Project'"
      ]
    },
    {
      "cell_type": "code",
      "execution_count": 3,
      "metadata": {
        "colab": {
          "base_uri": "https://localhost:8080/"
        },
        "id": "VPJRYLd_VoYt",
        "outputId": "e7156e26-4243-4ed7-ebb3-6a5cceb84d12"
      },
      "outputs": [
        {
          "output_type": "stream",
          "name": "stdout",
          "text": [
            "<class 'pandas.core.frame.DataFrame'>\n",
            "RangeIndex: 1196461 entries, 0 to 1196460\n",
            "Data columns (total 3 columns):\n",
            " #   Column  Non-Null Count    Dtype         \n",
            "---  ------  --------------    -----         \n",
            " 0   date    1196461 non-null  datetime64[ns]\n",
            " 1   tic     1196461 non-null  object        \n",
            " 2   close   1196461 non-null  float64       \n",
            "dtypes: datetime64[ns](1), float64(1), object(1)\n",
            "memory usage: 27.4+ MB\n"
          ]
        }
      ],
      "source": [
        "import pandas as pd\n",
        "import numpy as np\n",
        "import matplotlib.pyplot as plt\n",
        "import seaborn as sns\n",
        "%matplotlib inline\n",
        "\n",
        "df = pd.read_csv(path + '/ETF_Raw.csv')\n",
        "df=df.sort_values(['date','tic']).reset_index(drop=True)\n",
        "df['date']= pd.to_datetime(df['date'])\n",
        "df[\"DailyRet\"] = 0\n",
        "df[\"20DayRet\"] = 0\n",
        "df[\"20DayVol\"] = 0\n",
        "df[\"Z20DayRet\"] = 0\n",
        "df['Z20DayVol'] = 0\n",
        "#df['Date']= pd.to_datetime(df['Date'])\n",
        "#df_close = df[['Date', 'Index', 'Close']] \n",
        "df_close = df[['date', 'tic', 'close']] \n",
        "df_close.info()\n",
        "df_close = df_close.pivot_table(index = 'date', columns = 'tic', values = 'close').dropna(axis=1)\n",
        "stocks_tickers = df_close.columns"
      ]
    },
    {
      "cell_type": "code",
      "execution_count": 4,
      "metadata": {
        "id": "_i1A4L8-M9Yf"
      },
      "outputs": [],
      "source": [
        "#Saving Trading Days\n",
        "dates = df_close.index\n",
        "\n",
        "#Saving Stocks\n",
        "stocks = df_close.columns"
      ]
    },
    {
      "cell_type": "markdown",
      "metadata": {
        "id": "z1z2hA7Ca2Uu"
      },
      "source": [
        "# Feature Engineering"
      ]
    },
    {
      "cell_type": "code",
      "execution_count": 5,
      "metadata": {
        "colab": {
          "base_uri": "https://localhost:8080/",
          "height": 449
        },
        "id": "JRy3b1HGa5pJ",
        "outputId": "21d39894-898b-40d4-ea54-4e8d1f0d8245"
      },
      "outputs": [
        {
          "output_type": "execute_result",
          "data": {
            "text/plain": [
              "tic               A                                                    \\\n",
              "           20DayRet 20DayVol  DailyRet Z20DayRet Z20DayVol      adjcp   \n",
              "date                                                                    \n",
              "2012-05-10      NaN      NaN       NaN       NaN       NaN  25.962908   \n",
              "2012-05-11      NaN      NaN -0.007297       NaN       NaN  25.773438   \n",
              "2012-05-14      NaN      NaN -0.013942       NaN       NaN  25.414118   \n",
              "2012-05-15      NaN      NaN  0.041388       NaN       NaN  26.465963   \n",
              "2012-05-16      NaN      NaN -0.018514       NaN       NaN  25.975971   \n",
              "\n",
              "tic                                               ...      ZION            \\\n",
              "                close  day       high        low  ...  DailyRet Z20DayRet   \n",
              "date                                              ...                       \n",
              "2012-05-10  28.426323  3.0  29.256081  28.383406  ...       NaN       NaN   \n",
              "2012-05-11  28.218884  4.0  28.819742  28.183119  ...  0.011564       NaN   \n",
              "2012-05-14  27.825464  0.0  28.211731  27.496424  ... -0.031312       NaN   \n",
              "2012-05-15  28.977110  1.0  29.735336  28.905579  ... -0.021036       NaN   \n",
              "2012-05-16  28.440628  2.0  29.327612  28.397711  ... -0.014151       NaN   \n",
              "\n",
              "tic                                                                    \\\n",
              "           Z20DayVol      adjcp      close  day       high        low   \n",
              "date                                                                    \n",
              "2012-05-10       NaN  17.049673  19.889999  3.0  20.219999  19.840000   \n",
              "2012-05-11       NaN  17.246830  20.120001  4.0  20.170000  19.440001   \n",
              "2012-05-14       NaN  16.706791  19.490000  0.0  20.010000  19.440001   \n",
              "2012-05-15       NaN  16.355339  19.080000  1.0  19.620001  18.969999   \n",
              "2012-05-16       NaN  16.123896  18.809999  2.0  19.389999  18.809999   \n",
              "\n",
              "tic                               \n",
              "                 open     volume  \n",
              "date                              \n",
              "2012-05-10  20.000000  1600000.0  \n",
              "2012-05-11  19.780001  2438800.0  \n",
              "2012-05-14  19.760000  2912100.0  \n",
              "2012-05-15  19.480000  3290200.0  \n",
              "2012-05-16  19.170000  2219300.0  \n",
              "\n",
              "[5 rows x 5352 columns]"
            ],
            "text/html": [
              "\n",
              "  <div id=\"df-36a0617e-4d1e-47a7-b6c8-00afe84e590a\">\n",
              "    <div class=\"colab-df-container\">\n",
              "      <div>\n",
              "<style scoped>\n",
              "    .dataframe tbody tr th:only-of-type {\n",
              "        vertical-align: middle;\n",
              "    }\n",
              "\n",
              "    .dataframe tbody tr th {\n",
              "        vertical-align: top;\n",
              "    }\n",
              "\n",
              "    .dataframe thead tr th {\n",
              "        text-align: left;\n",
              "    }\n",
              "\n",
              "    .dataframe thead tr:last-of-type th {\n",
              "        text-align: right;\n",
              "    }\n",
              "</style>\n",
              "<table border=\"1\" class=\"dataframe\">\n",
              "  <thead>\n",
              "    <tr>\n",
              "      <th>tic</th>\n",
              "      <th colspan=\"10\" halign=\"left\">A</th>\n",
              "      <th>...</th>\n",
              "      <th colspan=\"10\" halign=\"left\">ZION</th>\n",
              "    </tr>\n",
              "    <tr>\n",
              "      <th></th>\n",
              "      <th>20DayRet</th>\n",
              "      <th>20DayVol</th>\n",
              "      <th>DailyRet</th>\n",
              "      <th>Z20DayRet</th>\n",
              "      <th>Z20DayVol</th>\n",
              "      <th>adjcp</th>\n",
              "      <th>close</th>\n",
              "      <th>day</th>\n",
              "      <th>high</th>\n",
              "      <th>low</th>\n",
              "      <th>...</th>\n",
              "      <th>DailyRet</th>\n",
              "      <th>Z20DayRet</th>\n",
              "      <th>Z20DayVol</th>\n",
              "      <th>adjcp</th>\n",
              "      <th>close</th>\n",
              "      <th>day</th>\n",
              "      <th>high</th>\n",
              "      <th>low</th>\n",
              "      <th>open</th>\n",
              "      <th>volume</th>\n",
              "    </tr>\n",
              "    <tr>\n",
              "      <th>date</th>\n",
              "      <th></th>\n",
              "      <th></th>\n",
              "      <th></th>\n",
              "      <th></th>\n",
              "      <th></th>\n",
              "      <th></th>\n",
              "      <th></th>\n",
              "      <th></th>\n",
              "      <th></th>\n",
              "      <th></th>\n",
              "      <th></th>\n",
              "      <th></th>\n",
              "      <th></th>\n",
              "      <th></th>\n",
              "      <th></th>\n",
              "      <th></th>\n",
              "      <th></th>\n",
              "      <th></th>\n",
              "      <th></th>\n",
              "      <th></th>\n",
              "      <th></th>\n",
              "    </tr>\n",
              "  </thead>\n",
              "  <tbody>\n",
              "    <tr>\n",
              "      <th>2012-05-10</th>\n",
              "      <td>NaN</td>\n",
              "      <td>NaN</td>\n",
              "      <td>NaN</td>\n",
              "      <td>NaN</td>\n",
              "      <td>NaN</td>\n",
              "      <td>25.962908</td>\n",
              "      <td>28.426323</td>\n",
              "      <td>3.0</td>\n",
              "      <td>29.256081</td>\n",
              "      <td>28.383406</td>\n",
              "      <td>...</td>\n",
              "      <td>NaN</td>\n",
              "      <td>NaN</td>\n",
              "      <td>NaN</td>\n",
              "      <td>17.049673</td>\n",
              "      <td>19.889999</td>\n",
              "      <td>3.0</td>\n",
              "      <td>20.219999</td>\n",
              "      <td>19.840000</td>\n",
              "      <td>20.000000</td>\n",
              "      <td>1600000.0</td>\n",
              "    </tr>\n",
              "    <tr>\n",
              "      <th>2012-05-11</th>\n",
              "      <td>NaN</td>\n",
              "      <td>NaN</td>\n",
              "      <td>-0.007297</td>\n",
              "      <td>NaN</td>\n",
              "      <td>NaN</td>\n",
              "      <td>25.773438</td>\n",
              "      <td>28.218884</td>\n",
              "      <td>4.0</td>\n",
              "      <td>28.819742</td>\n",
              "      <td>28.183119</td>\n",
              "      <td>...</td>\n",
              "      <td>0.011564</td>\n",
              "      <td>NaN</td>\n",
              "      <td>NaN</td>\n",
              "      <td>17.246830</td>\n",
              "      <td>20.120001</td>\n",
              "      <td>4.0</td>\n",
              "      <td>20.170000</td>\n",
              "      <td>19.440001</td>\n",
              "      <td>19.780001</td>\n",
              "      <td>2438800.0</td>\n",
              "    </tr>\n",
              "    <tr>\n",
              "      <th>2012-05-14</th>\n",
              "      <td>NaN</td>\n",
              "      <td>NaN</td>\n",
              "      <td>-0.013942</td>\n",
              "      <td>NaN</td>\n",
              "      <td>NaN</td>\n",
              "      <td>25.414118</td>\n",
              "      <td>27.825464</td>\n",
              "      <td>0.0</td>\n",
              "      <td>28.211731</td>\n",
              "      <td>27.496424</td>\n",
              "      <td>...</td>\n",
              "      <td>-0.031312</td>\n",
              "      <td>NaN</td>\n",
              "      <td>NaN</td>\n",
              "      <td>16.706791</td>\n",
              "      <td>19.490000</td>\n",
              "      <td>0.0</td>\n",
              "      <td>20.010000</td>\n",
              "      <td>19.440001</td>\n",
              "      <td>19.760000</td>\n",
              "      <td>2912100.0</td>\n",
              "    </tr>\n",
              "    <tr>\n",
              "      <th>2012-05-15</th>\n",
              "      <td>NaN</td>\n",
              "      <td>NaN</td>\n",
              "      <td>0.041388</td>\n",
              "      <td>NaN</td>\n",
              "      <td>NaN</td>\n",
              "      <td>26.465963</td>\n",
              "      <td>28.977110</td>\n",
              "      <td>1.0</td>\n",
              "      <td>29.735336</td>\n",
              "      <td>28.905579</td>\n",
              "      <td>...</td>\n",
              "      <td>-0.021036</td>\n",
              "      <td>NaN</td>\n",
              "      <td>NaN</td>\n",
              "      <td>16.355339</td>\n",
              "      <td>19.080000</td>\n",
              "      <td>1.0</td>\n",
              "      <td>19.620001</td>\n",
              "      <td>18.969999</td>\n",
              "      <td>19.480000</td>\n",
              "      <td>3290200.0</td>\n",
              "    </tr>\n",
              "    <tr>\n",
              "      <th>2012-05-16</th>\n",
              "      <td>NaN</td>\n",
              "      <td>NaN</td>\n",
              "      <td>-0.018514</td>\n",
              "      <td>NaN</td>\n",
              "      <td>NaN</td>\n",
              "      <td>25.975971</td>\n",
              "      <td>28.440628</td>\n",
              "      <td>2.0</td>\n",
              "      <td>29.327612</td>\n",
              "      <td>28.397711</td>\n",
              "      <td>...</td>\n",
              "      <td>-0.014151</td>\n",
              "      <td>NaN</td>\n",
              "      <td>NaN</td>\n",
              "      <td>16.123896</td>\n",
              "      <td>18.809999</td>\n",
              "      <td>2.0</td>\n",
              "      <td>19.389999</td>\n",
              "      <td>18.809999</td>\n",
              "      <td>19.170000</td>\n",
              "      <td>2219300.0</td>\n",
              "    </tr>\n",
              "  </tbody>\n",
              "</table>\n",
              "<p>5 rows × 5352 columns</p>\n",
              "</div>\n",
              "      <button class=\"colab-df-convert\" onclick=\"convertToInteractive('df-36a0617e-4d1e-47a7-b6c8-00afe84e590a')\"\n",
              "              title=\"Convert this dataframe to an interactive table.\"\n",
              "              style=\"display:none;\">\n",
              "        \n",
              "  <svg xmlns=\"http://www.w3.org/2000/svg\" height=\"24px\"viewBox=\"0 0 24 24\"\n",
              "       width=\"24px\">\n",
              "    <path d=\"M0 0h24v24H0V0z\" fill=\"none\"/>\n",
              "    <path d=\"M18.56 5.44l.94 2.06.94-2.06 2.06-.94-2.06-.94-.94-2.06-.94 2.06-2.06.94zm-11 1L8.5 8.5l.94-2.06 2.06-.94-2.06-.94L8.5 2.5l-.94 2.06-2.06.94zm10 10l.94 2.06.94-2.06 2.06-.94-2.06-.94-.94-2.06-.94 2.06-2.06.94z\"/><path d=\"M17.41 7.96l-1.37-1.37c-.4-.4-.92-.59-1.43-.59-.52 0-1.04.2-1.43.59L10.3 9.45l-7.72 7.72c-.78.78-.78 2.05 0 2.83L4 21.41c.39.39.9.59 1.41.59.51 0 1.02-.2 1.41-.59l7.78-7.78 2.81-2.81c.8-.78.8-2.07 0-2.86zM5.41 20L4 18.59l7.72-7.72 1.47 1.35L5.41 20z\"/>\n",
              "  </svg>\n",
              "      </button>\n",
              "      \n",
              "  <style>\n",
              "    .colab-df-container {\n",
              "      display:flex;\n",
              "      flex-wrap:wrap;\n",
              "      gap: 12px;\n",
              "    }\n",
              "\n",
              "    .colab-df-convert {\n",
              "      background-color: #E8F0FE;\n",
              "      border: none;\n",
              "      border-radius: 50%;\n",
              "      cursor: pointer;\n",
              "      display: none;\n",
              "      fill: #1967D2;\n",
              "      height: 32px;\n",
              "      padding: 0 0 0 0;\n",
              "      width: 32px;\n",
              "    }\n",
              "\n",
              "    .colab-df-convert:hover {\n",
              "      background-color: #E2EBFA;\n",
              "      box-shadow: 0px 1px 2px rgba(60, 64, 67, 0.3), 0px 1px 3px 1px rgba(60, 64, 67, 0.15);\n",
              "      fill: #174EA6;\n",
              "    }\n",
              "\n",
              "    [theme=dark] .colab-df-convert {\n",
              "      background-color: #3B4455;\n",
              "      fill: #D2E3FC;\n",
              "    }\n",
              "\n",
              "    [theme=dark] .colab-df-convert:hover {\n",
              "      background-color: #434B5C;\n",
              "      box-shadow: 0px 1px 3px 1px rgba(0, 0, 0, 0.15);\n",
              "      filter: drop-shadow(0px 1px 2px rgba(0, 0, 0, 0.3));\n",
              "      fill: #FFFFFF;\n",
              "    }\n",
              "  </style>\n",
              "\n",
              "      <script>\n",
              "        const buttonEl =\n",
              "          document.querySelector('#df-36a0617e-4d1e-47a7-b6c8-00afe84e590a button.colab-df-convert');\n",
              "        buttonEl.style.display =\n",
              "          google.colab.kernel.accessAllowed ? 'block' : 'none';\n",
              "\n",
              "        async function convertToInteractive(key) {\n",
              "          const element = document.querySelector('#df-36a0617e-4d1e-47a7-b6c8-00afe84e590a');\n",
              "          const dataTable =\n",
              "            await google.colab.kernel.invokeFunction('convertToInteractive',\n",
              "                                                     [key], {});\n",
              "          if (!dataTable) return;\n",
              "\n",
              "          const docLinkHtml = 'Like what you see? Visit the ' +\n",
              "            '<a target=\"_blank\" href=https://colab.research.google.com/notebooks/data_table.ipynb>data table notebook</a>'\n",
              "            + ' to learn more about interactive tables.';\n",
              "          element.innerHTML = '';\n",
              "          dataTable['output_type'] = 'display_data';\n",
              "          await google.colab.output.renderOutput(dataTable, element);\n",
              "          const docLink = document.createElement('div');\n",
              "          docLink.innerHTML = docLinkHtml;\n",
              "          element.appendChild(docLink);\n",
              "        }\n",
              "      </script>\n",
              "    </div>\n",
              "  </div>\n",
              "  "
            ]
          },
          "metadata": {},
          "execution_count": 5
        }
      ],
      "source": [
        "raw_df = df.set_index(['date' , 'tic']).unstack(level = 1).stack(level = 0).unstack()\n",
        "raw_df = raw_df.dropna(axis = 1)\n",
        "for stock in stocks_tickers:\n",
        "  #Calculate Daily Returns\n",
        "  raw_df.loc[:, (stock, 'DailyRet')] = raw_df[stock][\"close\"].pct_change()\n",
        "  #Calculate 20-Day Returns\n",
        "  raw_df.loc[:, (stock, '20DayRet')] = raw_df[stock][\"close\"].pct_change(20)\n",
        "  #Calculate Rolling 20 day volatility \n",
        "  roller = raw_df[stock][\"DailyRet\"].rolling(20)\n",
        "  raw_df.loc[:, (stock, '20DayVol')] = roller.std(ddof=0)\n",
        "  \n",
        "  '''Normalize data with the rolling 252'''\n",
        "  #Normalize 20 Day Returns \n",
        "  rolling_year_ret = raw_df[stock][\"20DayRet\"].rolling(252)\n",
        "  raw_df.loc[:, (stock, 'Z20DayRet')] = (rolling_year_ret.mean().shift(1) - raw_df[stock]['20DayRet']) / rolling_year_ret.std(ddof=0).shift(1)\n",
        "  #Normalize 20 Day Volatility\n",
        "  rolling_year_vol = raw_df[stock][\"20DayVol\"].rolling(252)\n",
        "  raw_df.loc[:, (stock, 'Z20DayVol')] = (rolling_year_vol.mean().shift(1) - raw_df[stock]['20DayVol']) / rolling_year_vol.std(ddof=0).shift(1) \n",
        "\n",
        "raw_df.head(5)  "
      ]
    },
    {
      "cell_type": "code",
      "execution_count": 6,
      "metadata": {
        "id": "2nvpS5W4aMzV"
      },
      "outputs": [],
      "source": [
        "#DROP ROWS WITH NA vals \n",
        "full_feature_dataset = raw_df.dropna(axis=0)"
      ]
    },
    {
      "cell_type": "code",
      "execution_count": 7,
      "metadata": {
        "id": "luQBo0Acaw9e"
      },
      "outputs": [],
      "source": [
        "full_features = raw_df.columns.remove_unused_levels()"
      ]
    },
    {
      "cell_type": "markdown",
      "metadata": {
        "id": "2LQxCVLguZ8c"
      },
      "source": [
        "# Principal Component Analysis"
      ]
    },
    {
      "cell_type": "code",
      "execution_count": 8,
      "metadata": {
        "colab": {
          "base_uri": "https://localhost:8080/",
          "height": 449
        },
        "id": "8V0L3gkhuixn",
        "outputId": "9542d94f-d4b1-4605-8e85-e3c5b1cab0f1"
      },
      "outputs": [
        {
          "output_type": "execute_result",
          "data": {
            "text/plain": [
              "tic                A                                                     \\\n",
              "            20DayRet  20DayVol  DailyRet Z20DayRet Z20DayVol      adjcp   \n",
              "date                                                                      \n",
              "2013-06-12 -0.001137  0.013908 -0.010811  0.226251  0.648358  28.998207   \n",
              "2013-06-13 -0.026051  0.011165  0.012978  0.651565  1.419813  29.374552   \n",
              "2013-06-14 -0.022005  0.010945 -0.011014  0.581269  1.475731  29.051031   \n",
              "2013-06-17 -0.025900  0.010725  0.008636  0.644794  1.531463  29.301929   \n",
              "2013-06-18 -0.033233  0.010185  0.009464  0.770989  1.674771  29.579220   \n",
              "\n",
              "tic                                               ...      ZION            \\\n",
              "                close  day       high        low  ...  DailyRet Z20DayRet   \n",
              "date                                              ...                       \n",
              "2013-06-12  31.416309  2.0  32.067238  31.323318  ... -0.025144  0.475731   \n",
              "2013-06-13  31.824034  3.0  31.874105  31.230330  ...  0.014370  0.196540   \n",
              "2013-06-14  31.473534  4.0  31.881260  31.366238  ... -0.020705  0.479646   \n",
              "2013-06-17  31.745352  0.0  32.095852  31.609442  ...  0.003709  0.751945   \n",
              "2013-06-18  32.045780  1.0  32.052933  31.666668  ...  0.009239  0.791384   \n",
              "\n",
              "tic                                                                           \\\n",
              "           Z20DayVol      adjcp      close  day   high        low       open   \n",
              "date                                                                           \n",
              "2013-06-12 -0.141855  23.343868  27.139999  2.0  28.09  26.950001  28.040001   \n",
              "2013-06-13 -0.236659  23.679321  27.530001  3.0  27.59  27.080000  27.170000   \n",
              "2013-06-14 -0.462985  23.189049  26.959999  4.0  27.77  26.830000  27.700001   \n",
              "2013-06-17 -0.274384  23.275061  27.059999  0.0  27.25  26.820000  27.070000   \n",
              "2013-06-18 -0.259654  23.490089  27.309999  1.0  27.42  26.870001  27.040001   \n",
              "\n",
              "tic                    \n",
              "               volume  \n",
              "date                   \n",
              "2013-06-12  2049100.0  \n",
              "2013-06-13  1539700.0  \n",
              "2013-06-14  1451400.0  \n",
              "2013-06-17  2450300.0  \n",
              "2013-06-18  1516300.0  \n",
              "\n",
              "[5 rows x 5352 columns]"
            ],
            "text/html": [
              "\n",
              "  <div id=\"df-c8eecc12-6df6-4f2c-967a-5883671364f1\">\n",
              "    <div class=\"colab-df-container\">\n",
              "      <div>\n",
              "<style scoped>\n",
              "    .dataframe tbody tr th:only-of-type {\n",
              "        vertical-align: middle;\n",
              "    }\n",
              "\n",
              "    .dataframe tbody tr th {\n",
              "        vertical-align: top;\n",
              "    }\n",
              "\n",
              "    .dataframe thead tr th {\n",
              "        text-align: left;\n",
              "    }\n",
              "\n",
              "    .dataframe thead tr:last-of-type th {\n",
              "        text-align: right;\n",
              "    }\n",
              "</style>\n",
              "<table border=\"1\" class=\"dataframe\">\n",
              "  <thead>\n",
              "    <tr>\n",
              "      <th>tic</th>\n",
              "      <th colspan=\"10\" halign=\"left\">A</th>\n",
              "      <th>...</th>\n",
              "      <th colspan=\"10\" halign=\"left\">ZION</th>\n",
              "    </tr>\n",
              "    <tr>\n",
              "      <th></th>\n",
              "      <th>20DayRet</th>\n",
              "      <th>20DayVol</th>\n",
              "      <th>DailyRet</th>\n",
              "      <th>Z20DayRet</th>\n",
              "      <th>Z20DayVol</th>\n",
              "      <th>adjcp</th>\n",
              "      <th>close</th>\n",
              "      <th>day</th>\n",
              "      <th>high</th>\n",
              "      <th>low</th>\n",
              "      <th>...</th>\n",
              "      <th>DailyRet</th>\n",
              "      <th>Z20DayRet</th>\n",
              "      <th>Z20DayVol</th>\n",
              "      <th>adjcp</th>\n",
              "      <th>close</th>\n",
              "      <th>day</th>\n",
              "      <th>high</th>\n",
              "      <th>low</th>\n",
              "      <th>open</th>\n",
              "      <th>volume</th>\n",
              "    </tr>\n",
              "    <tr>\n",
              "      <th>date</th>\n",
              "      <th></th>\n",
              "      <th></th>\n",
              "      <th></th>\n",
              "      <th></th>\n",
              "      <th></th>\n",
              "      <th></th>\n",
              "      <th></th>\n",
              "      <th></th>\n",
              "      <th></th>\n",
              "      <th></th>\n",
              "      <th></th>\n",
              "      <th></th>\n",
              "      <th></th>\n",
              "      <th></th>\n",
              "      <th></th>\n",
              "      <th></th>\n",
              "      <th></th>\n",
              "      <th></th>\n",
              "      <th></th>\n",
              "      <th></th>\n",
              "      <th></th>\n",
              "    </tr>\n",
              "  </thead>\n",
              "  <tbody>\n",
              "    <tr>\n",
              "      <th>2013-06-12</th>\n",
              "      <td>-0.001137</td>\n",
              "      <td>0.013908</td>\n",
              "      <td>-0.010811</td>\n",
              "      <td>0.226251</td>\n",
              "      <td>0.648358</td>\n",
              "      <td>28.998207</td>\n",
              "      <td>31.416309</td>\n",
              "      <td>2.0</td>\n",
              "      <td>32.067238</td>\n",
              "      <td>31.323318</td>\n",
              "      <td>...</td>\n",
              "      <td>-0.025144</td>\n",
              "      <td>0.475731</td>\n",
              "      <td>-0.141855</td>\n",
              "      <td>23.343868</td>\n",
              "      <td>27.139999</td>\n",
              "      <td>2.0</td>\n",
              "      <td>28.09</td>\n",
              "      <td>26.950001</td>\n",
              "      <td>28.040001</td>\n",
              "      <td>2049100.0</td>\n",
              "    </tr>\n",
              "    <tr>\n",
              "      <th>2013-06-13</th>\n",
              "      <td>-0.026051</td>\n",
              "      <td>0.011165</td>\n",
              "      <td>0.012978</td>\n",
              "      <td>0.651565</td>\n",
              "      <td>1.419813</td>\n",
              "      <td>29.374552</td>\n",
              "      <td>31.824034</td>\n",
              "      <td>3.0</td>\n",
              "      <td>31.874105</td>\n",
              "      <td>31.230330</td>\n",
              "      <td>...</td>\n",
              "      <td>0.014370</td>\n",
              "      <td>0.196540</td>\n",
              "      <td>-0.236659</td>\n",
              "      <td>23.679321</td>\n",
              "      <td>27.530001</td>\n",
              "      <td>3.0</td>\n",
              "      <td>27.59</td>\n",
              "      <td>27.080000</td>\n",
              "      <td>27.170000</td>\n",
              "      <td>1539700.0</td>\n",
              "    </tr>\n",
              "    <tr>\n",
              "      <th>2013-06-14</th>\n",
              "      <td>-0.022005</td>\n",
              "      <td>0.010945</td>\n",
              "      <td>-0.011014</td>\n",
              "      <td>0.581269</td>\n",
              "      <td>1.475731</td>\n",
              "      <td>29.051031</td>\n",
              "      <td>31.473534</td>\n",
              "      <td>4.0</td>\n",
              "      <td>31.881260</td>\n",
              "      <td>31.366238</td>\n",
              "      <td>...</td>\n",
              "      <td>-0.020705</td>\n",
              "      <td>0.479646</td>\n",
              "      <td>-0.462985</td>\n",
              "      <td>23.189049</td>\n",
              "      <td>26.959999</td>\n",
              "      <td>4.0</td>\n",
              "      <td>27.77</td>\n",
              "      <td>26.830000</td>\n",
              "      <td>27.700001</td>\n",
              "      <td>1451400.0</td>\n",
              "    </tr>\n",
              "    <tr>\n",
              "      <th>2013-06-17</th>\n",
              "      <td>-0.025900</td>\n",
              "      <td>0.010725</td>\n",
              "      <td>0.008636</td>\n",
              "      <td>0.644794</td>\n",
              "      <td>1.531463</td>\n",
              "      <td>29.301929</td>\n",
              "      <td>31.745352</td>\n",
              "      <td>0.0</td>\n",
              "      <td>32.095852</td>\n",
              "      <td>31.609442</td>\n",
              "      <td>...</td>\n",
              "      <td>0.003709</td>\n",
              "      <td>0.751945</td>\n",
              "      <td>-0.274384</td>\n",
              "      <td>23.275061</td>\n",
              "      <td>27.059999</td>\n",
              "      <td>0.0</td>\n",
              "      <td>27.25</td>\n",
              "      <td>26.820000</td>\n",
              "      <td>27.070000</td>\n",
              "      <td>2450300.0</td>\n",
              "    </tr>\n",
              "    <tr>\n",
              "      <th>2013-06-18</th>\n",
              "      <td>-0.033233</td>\n",
              "      <td>0.010185</td>\n",
              "      <td>0.009464</td>\n",
              "      <td>0.770989</td>\n",
              "      <td>1.674771</td>\n",
              "      <td>29.579220</td>\n",
              "      <td>32.045780</td>\n",
              "      <td>1.0</td>\n",
              "      <td>32.052933</td>\n",
              "      <td>31.666668</td>\n",
              "      <td>...</td>\n",
              "      <td>0.009239</td>\n",
              "      <td>0.791384</td>\n",
              "      <td>-0.259654</td>\n",
              "      <td>23.490089</td>\n",
              "      <td>27.309999</td>\n",
              "      <td>1.0</td>\n",
              "      <td>27.42</td>\n",
              "      <td>26.870001</td>\n",
              "      <td>27.040001</td>\n",
              "      <td>1516300.0</td>\n",
              "    </tr>\n",
              "  </tbody>\n",
              "</table>\n",
              "<p>5 rows × 5352 columns</p>\n",
              "</div>\n",
              "      <button class=\"colab-df-convert\" onclick=\"convertToInteractive('df-c8eecc12-6df6-4f2c-967a-5883671364f1')\"\n",
              "              title=\"Convert this dataframe to an interactive table.\"\n",
              "              style=\"display:none;\">\n",
              "        \n",
              "  <svg xmlns=\"http://www.w3.org/2000/svg\" height=\"24px\"viewBox=\"0 0 24 24\"\n",
              "       width=\"24px\">\n",
              "    <path d=\"M0 0h24v24H0V0z\" fill=\"none\"/>\n",
              "    <path d=\"M18.56 5.44l.94 2.06.94-2.06 2.06-.94-2.06-.94-.94-2.06-.94 2.06-2.06.94zm-11 1L8.5 8.5l.94-2.06 2.06-.94-2.06-.94L8.5 2.5l-.94 2.06-2.06.94zm10 10l.94 2.06.94-2.06 2.06-.94-2.06-.94-.94-2.06-.94 2.06-2.06.94z\"/><path d=\"M17.41 7.96l-1.37-1.37c-.4-.4-.92-.59-1.43-.59-.52 0-1.04.2-1.43.59L10.3 9.45l-7.72 7.72c-.78.78-.78 2.05 0 2.83L4 21.41c.39.39.9.59 1.41.59.51 0 1.02-.2 1.41-.59l7.78-7.78 2.81-2.81c.8-.78.8-2.07 0-2.86zM5.41 20L4 18.59l7.72-7.72 1.47 1.35L5.41 20z\"/>\n",
              "  </svg>\n",
              "      </button>\n",
              "      \n",
              "  <style>\n",
              "    .colab-df-container {\n",
              "      display:flex;\n",
              "      flex-wrap:wrap;\n",
              "      gap: 12px;\n",
              "    }\n",
              "\n",
              "    .colab-df-convert {\n",
              "      background-color: #E8F0FE;\n",
              "      border: none;\n",
              "      border-radius: 50%;\n",
              "      cursor: pointer;\n",
              "      display: none;\n",
              "      fill: #1967D2;\n",
              "      height: 32px;\n",
              "      padding: 0 0 0 0;\n",
              "      width: 32px;\n",
              "    }\n",
              "\n",
              "    .colab-df-convert:hover {\n",
              "      background-color: #E2EBFA;\n",
              "      box-shadow: 0px 1px 2px rgba(60, 64, 67, 0.3), 0px 1px 3px 1px rgba(60, 64, 67, 0.15);\n",
              "      fill: #174EA6;\n",
              "    }\n",
              "\n",
              "    [theme=dark] .colab-df-convert {\n",
              "      background-color: #3B4455;\n",
              "      fill: #D2E3FC;\n",
              "    }\n",
              "\n",
              "    [theme=dark] .colab-df-convert:hover {\n",
              "      background-color: #434B5C;\n",
              "      box-shadow: 0px 1px 3px 1px rgba(0, 0, 0, 0.15);\n",
              "      filter: drop-shadow(0px 1px 2px rgba(0, 0, 0, 0.3));\n",
              "      fill: #FFFFFF;\n",
              "    }\n",
              "  </style>\n",
              "\n",
              "      <script>\n",
              "        const buttonEl =\n",
              "          document.querySelector('#df-c8eecc12-6df6-4f2c-967a-5883671364f1 button.colab-df-convert');\n",
              "        buttonEl.style.display =\n",
              "          google.colab.kernel.accessAllowed ? 'block' : 'none';\n",
              "\n",
              "        async function convertToInteractive(key) {\n",
              "          const element = document.querySelector('#df-c8eecc12-6df6-4f2c-967a-5883671364f1');\n",
              "          const dataTable =\n",
              "            await google.colab.kernel.invokeFunction('convertToInteractive',\n",
              "                                                     [key], {});\n",
              "          if (!dataTable) return;\n",
              "\n",
              "          const docLinkHtml = 'Like what you see? Visit the ' +\n",
              "            '<a target=\"_blank\" href=https://colab.research.google.com/notebooks/data_table.ipynb>data table notebook</a>'\n",
              "            + ' to learn more about interactive tables.';\n",
              "          element.innerHTML = '';\n",
              "          dataTable['output_type'] = 'display_data';\n",
              "          await google.colab.output.renderOutput(dataTable, element);\n",
              "          const docLink = document.createElement('div');\n",
              "          docLink.innerHTML = docLinkHtml;\n",
              "          element.appendChild(docLink);\n",
              "        }\n",
              "      </script>\n",
              "    </div>\n",
              "  </div>\n",
              "  "
            ]
          },
          "metadata": {},
          "execution_count": 8
        }
      ],
      "source": [
        "full_feature_dataset.head()"
      ]
    },
    {
      "cell_type": "code",
      "execution_count": 9,
      "metadata": {
        "colab": {
          "base_uri": "https://localhost:8080/"
        },
        "id": "V-AV6ZPBu5tg",
        "outputId": "961ba76c-364b-4a3a-bef4-0e4d170efc3a"
      },
      "outputs": [
        {
          "output_type": "execute_result",
          "data": {
            "text/plain": [
              "(2244, 5352)"
            ]
          },
          "metadata": {},
          "execution_count": 9
        }
      ],
      "source": [
        "full_feature_dataset = full_feature_dataset.to_numpy()\n",
        "full_feature_dataset.shape"
      ]
    },
    {
      "cell_type": "markdown",
      "metadata": {
        "id": "LFmXplYiwLEP"
      },
      "source": [
        "### Performing PCA to Extract most useful features for the dataset"
      ]
    },
    {
      "cell_type": "code",
      "execution_count": 10,
      "metadata": {
        "id": "jvDRML2quZRg"
      },
      "outputs": [],
      "source": [
        "from sklearn.decomposition import PCA\n",
        "from sklearn.preprocessing import MinMaxScaler"
      ]
    },
    {
      "cell_type": "markdown",
      "metadata": {
        "id": "Glz8O4KUdJcL"
      },
      "source": [
        "# LSTM Stock Prediction"
      ]
    },
    {
      "cell_type": "markdown",
      "metadata": {
        "id": "Qo_hebaNzhGG"
      },
      "source": [
        "## Data Manipulation\n",
        "\n",
        "In this section several steps are performed...\n",
        "- Set our lookback/training window and horizon/testing window\n",
        "- Create a training, validation, and test set\n",
        "- Scale the data using MinMaxScaler\n",
        "- Process data into arrays with ranges of dates from (lookback, t) and (t+1, horizon). T jumps by one day each time."
      ]
    },
    {
      "cell_type": "code",
      "execution_count": 11,
      "metadata": {
        "id": "4A6vhTHHD80i"
      },
      "outputs": [],
      "source": [
        "closing_prices = df_close.iloc[:full_feature_dataset.shape[0],:]"
      ]
    },
    {
      "cell_type": "markdown",
      "metadata": {
        "id": "-E2xLQmskPgA"
      },
      "source": [
        "Creating train and test sets"
      ]
    },
    {
      "cell_type": "code",
      "execution_count": 12,
      "metadata": {
        "id": "8S7UjrVFW8bK"
      },
      "outputs": [],
      "source": [
        "from sklearn.model_selection import train_test_split\n",
        "#Division of data\n",
        "# df_close = df_close.to_numpy()\n",
        "array_train, array_test = train_test_split(closing_prices, shuffle = False, test_size = .3)\n",
        "PCA_train, PCA_test = train_test_split(full_feature_dataset, shuffle = False, test_size = .3)"
      ]
    },
    {
      "cell_type": "code",
      "execution_count": 13,
      "metadata": {
        "colab": {
          "base_uri": "https://localhost:8080/"
        },
        "id": "D1N1paWFPRsC",
        "outputId": "289c53d5-1540-48e1-b86c-c5658c574ee3"
      },
      "outputs": [
        {
          "output_type": "stream",
          "name": "stdout",
          "text": [
            "(2244, 446)\n",
            "(1570, 446)\n",
            "(1570, 5352)\n",
            "(674, 446)\n",
            "(674, 5352)\n"
          ]
        }
      ],
      "source": [
        "print(closing_prices.shape)\n",
        "print(array_train.shape)\n",
        "print(PCA_train.shape)\n",
        "print(array_test.shape)\n",
        "print(PCA_test.shape)"
      ]
    },
    {
      "cell_type": "code",
      "execution_count": 14,
      "metadata": {
        "id": "WozBjGVpJ6eX"
      },
      "outputs": [],
      "source": [
        "from sklearn.decomposition import PCA\n",
        "pc3 = PCA()\n",
        "temp = pc3.fit_transform(PCA_train)"
      ]
    },
    {
      "cell_type": "code",
      "source": [
        "temp.shape"
      ],
      "metadata": {
        "colab": {
          "base_uri": "https://localhost:8080/"
        },
        "id": "SGZh2JhZJKNl",
        "outputId": "8b8f98a9-9e0a-40d5-d5b8-27d25aff7bbc"
      },
      "execution_count": 15,
      "outputs": [
        {
          "output_type": "execute_result",
          "data": {
            "text/plain": [
              "(1570, 1570)"
            ]
          },
          "metadata": {},
          "execution_count": 15
        }
      ]
    },
    {
      "cell_type": "markdown",
      "metadata": {
        "id": "SFsPbv5tKquB"
      },
      "source": [
        "Nearly all data is explained by 382 components"
      ]
    },
    {
      "cell_type": "code",
      "execution_count": 16,
      "metadata": {
        "colab": {
          "base_uri": "https://localhost:8080/",
          "height": 279
        },
        "id": "Ziuhe3mbKKp6",
        "outputId": "cd09843d-6627-46ff-8889-0bbe8692f366"
      },
      "outputs": [
        {
          "output_type": "display_data",
          "data": {
            "text/plain": [
              "<Figure size 432x288 with 1 Axes>"
            ],
            "image/png": "[encoded data removed]"
          },
          "metadata": {
            "needs_background": "light"
          }
        }
      ],
      "source": [
        "plt.plot(np.cumsum(pc3.explained_variance_ratio_))\n",
        "plt.xlabel('Num Components')\n",
        "plt.ylabel('Cumulative Explained Variance');"
      ]
    },
    {
      "cell_type": "code",
      "execution_count": 17,
      "metadata": {
        "colab": {
          "base_uri": "https://localhost:8080/"
        },
        "id": "ATDUKTlq0p9A",
        "outputId": "dc08f8bd-bcea-4ba4-df80-873c24feb713"
      },
      "outputs": [
        {
          "output_type": "execute_result",
          "data": {
            "text/plain": [
              "1570"
            ]
          },
          "metadata": {},
          "execution_count": 17
        }
      ],
      "source": [
        "len(array_train)"
      ]
    },
    {
      "cell_type": "markdown",
      "metadata": {
        "id": "8chyoEa8kTTN"
      },
      "source": [
        "Scaling the Data"
      ]
    },
    {
      "cell_type": "code",
      "execution_count": 18,
      "metadata": {
        "id": "-icU5T0_emvc"
      },
      "outputs": [],
      "source": [
        "#Data with only closing prices\n",
        "from sklearn.preprocessing import MinMaxScaler\n",
        "scl = MinMaxScaler()\n",
        "scale = MinMaxScaler()\n",
        "array_train = scl.fit_transform(array_train)\n",
        "array_test  = scale.fit_transform(array_test) #[0,1]\n",
        "\n",
        "#Full features dataset; reducing dimensionality here\n",
        "from sklearn.decomposition import PCA\n",
        "pcTrain_scl = MinMaxScaler()\n",
        "pcTest_scl  = MinMaxScaler()\n",
        "#382\n",
        "pcaTrain = PCA(n_components = 382)\n",
        "pcaTest = PCA(n_components = 382)\n",
        "\n",
        "PCA_train = pcTrain_scl.fit_transform(PCA_train)\n",
        "PCA_train = pcaTrain.fit_transform(PCA_train)\n",
        "\n",
        "PCA_test = pcTest_scl.fit_transform(PCA_test)\n",
        "PCA_test = pcaTest.fit_transform(PCA_test)"
      ]
    },
    {
      "cell_type": "markdown",
      "metadata": {
        "id": "i1iTlZlxkWZE"
      },
      "source": [
        "Creating function to iteravely process data"
      ]
    },
    {
      "cell_type": "code",
      "execution_count": 19,
      "metadata": {
        "id": "fZ8VfGa5fYP9"
      },
      "outputs": [],
      "source": [
        "#Get the data and splits in input X and output Y, by spliting in lookback number of past days as input X \n",
        "#and horizon number of coming days as Y.\n",
        "def processData(data, lookback, horizon,num_companies,jump=1):\n",
        "    X,Y = [],[]\n",
        "    for i in range(0,len(data) -lookback - horizon +1, jump):\n",
        "        X.append(data[i:(i+lookback)])\n",
        "        Y.append(data[(i+lookback):(i+lookback+horizon)])\n",
        "    return np.array(X),np.array(Y)"
      ]
    },
    {
      "cell_type": "markdown",
      "metadata": {
        "id": "SZiM9hJika9w"
      },
      "source": [
        "Setting lookback and horizon window sizes"
      ]
    },
    {
      "cell_type": "code",
      "execution_count": 20,
      "metadata": {
        "id": "8Vivvsu4fqir"
      },
      "outputs": [],
      "source": [
        "num_companies = df_close.shape[1]\n",
        "lookback = 252 #How many days of the past can the model see\n",
        "horizon = 22 #How many days into the future are we trying to predict"
      ]
    },
    {
      "cell_type": "markdown",
      "metadata": {
        "id": "Zb-UTFsMke_E"
      },
      "source": [
        "Further splitting the train data into training and validation sets"
      ]
    },
    {
      "cell_type": "code",
      "execution_count": 21,
      "metadata": {
        "id": "aREefEBhgC65"
      },
      "outputs": [],
      "source": [
        "# Formation of lookback dataframes and forward dataframes for training, and testing dataset\n",
        "# to calculate accuracy\n",
        "\n",
        "#Testing Data\n",
        "X_test, void = processData(PCA_test,lookback,horizon,num_companies,horizon)\n",
        "void, y_test = processData(array_test,lookback,horizon,num_companies,horizon) \n",
        "y_test = np.array([list(a.ravel()) for a in y_test])\n",
        "\n",
        "#Training/Validation Data\n",
        "X_PCA, void = processData(PCA_train,lookback,horizon,num_companies)\n",
        "void, y = processData(array_train,lookback,horizon,num_companies)\n",
        "y = np.array([list(x.ravel()) for x in y])\n",
        "\n",
        "X_train, X_validate, y_train, y_validate = train_test_split(X_PCA, y, test_size=0.2, random_state=1)"
      ]
    },
    {
      "cell_type": "code",
      "execution_count": 22,
      "metadata": {
        "colab": {
          "base_uri": "https://localhost:8080/"
        },
        "id": "7oOTwlWNjdFD",
        "outputId": "86a4d50e-c837-493f-a626-f5b3cf09bcf3"
      },
      "outputs": [
        {
          "output_type": "execute_result",
          "data": {
            "text/plain": [
              "674"
            ]
          },
          "metadata": {},
          "execution_count": 22
        }
      ],
      "source": [
        "len(PCA_test)\n",
        "#Length y_train/test/validate / forward window == # of features"
      ]
    },
    {
      "cell_type": "code",
      "execution_count": 23,
      "metadata": {
        "colab": {
          "base_uri": "https://localhost:8080/"
        },
        "outputId": "8e952a74-29b7-4719-8344-cbfc094e0557",
        "id": "vcsobCEIUrb4"
      },
      "outputs": [
        {
          "output_type": "execute_result",
          "data": {
            "text/plain": [
              "(674, 382)"
            ]
          },
          "metadata": {},
          "execution_count": 23
        }
      ],
      "source": [
        "PCA_test.shape"
      ]
    },
    {
      "cell_type": "code",
      "execution_count": 24,
      "metadata": {
        "colab": {
          "base_uri": "https://localhost:8080/"
        },
        "id": "kFaWQ9tOgsEj",
        "outputId": "00ed2b62-7993-4d16-ca2a-20ecc15fd413"
      },
      "outputs": [
        {
          "output_type": "stream",
          "name": "stdout",
          "text": [
            "(1037, 252, 382)\n",
            "(260, 252, 382)\n",
            "(19, 252, 382)\n",
            "(1037, 9812)\n",
            "(260, 9812)\n",
            "(19, 9812)\n"
          ]
        }
      ],
      "source": [
        "print(X_train.shape)\n",
        "print(X_validate.shape)\n",
        "print(X_test.shape)\n",
        "print(y_train.shape)\n",
        "print(y_validate.shape)\n",
        "print(y_test.shape)\n",
        "#(Sample,Timestep,Features)"
      ]
    },
    {
      "cell_type": "code",
      "execution_count": 25,
      "metadata": {
        "colab": {
          "base_uri": "https://localhost:8080/"
        },
        "outputId": "ff3e2fdc-4476-4c44-b259-9dacd800c94d",
        "id": "3WOUZm3vUrb5"
      },
      "outputs": [
        {
          "output_type": "execute_result",
          "data": {
            "text/plain": [
              "446"
            ]
          },
          "metadata": {},
          "execution_count": 25
        }
      ],
      "source": [
        "num_companies"
      ]
    },
    {
      "cell_type": "markdown",
      "metadata": {
        "id": "GmtMFE_vg7-Y"
      },
      "source": [
        "## Model Architecture + Training\n",
        "\n",
        "Here, we can input the number or neurons on each layer, change the level of dropout, and set the specifications for early dropout. The model is then trained and the learning curve is plotted below."
      ]
    },
    {
      "cell_type": "code",
      "execution_count": 26,
      "metadata": {
        "id": "g7ePss4QhIQe"
      },
      "outputs": [],
      "source": [
        "from keras.models import Sequential, load_model\n",
        "import tensorflow as tf\n",
        "from keras.layers import LSTM,Dense,Activation,Dropout,Attention\n",
        "from tensorflow.keras.callbacks import EarlyStopping\n",
        "from tensorflow.keras.regularizers import Regularizer\n",
        "from keras import optimizers\n",
        "\n",
        "#Model Architecture - Two LSTM layers with x neurons & y epochs\n",
        "num_neurons_L1 = 800\n",
        "num_neurons_L2 = 600\n",
        "num_neurons_dense1 = 200\n",
        "EPOCHS = 100\n",
        "\n",
        "#Model\n",
        "model = Sequential()\n",
        "\n",
        "#model.add(LSTM(num_neurons_L1,input_shape=(lookback,num_companies), return_sequences=True))\n",
        "model.add(LSTM(num_neurons_L1,input_shape=(lookback,382), return_sequences=True))\n",
        "model.add(LSTM(num_neurons_L2,input_shape=(num_neurons_L1,1)))\n",
        "model.add(Dense(horizon * num_companies, activation = 'relu'))\n",
        "model.add(Dense(horizon * num_companies, activation = 'sigmoid'))\n",
        "\n",
        "model.compile(loss='mean_squared_error', optimizer='adam', metrics = ['accuracy'])"
      ]
    },
    {
      "cell_type": "raw",
      "metadata": {
        "id": "pbmV9F_ZUrb5"
      },
      "source": [
        "from keras.layers import Attention"
      ]
    },
    {
      "cell_type": "code",
      "execution_count": 27,
      "metadata": {
        "colab": {
          "base_uri": "https://localhost:8080/"
        },
        "id": "TbKxMUTYUrb5",
        "outputId": "4ca12a5a-55d2-4e44-b606-13ac89e9ff10"
      },
      "outputs": [
        {
          "output_type": "stream",
          "name": "stdout",
          "text": [
            "Model: \"sequential\"\n",
            "_________________________________________________________________\n",
            " Layer (type)                Output Shape              Param #   \n",
            "=================================================================\n",
            " lstm (LSTM)                 (None, 252, 800)          3785600   \n",
            "                                                                 \n",
            " lstm_1 (LSTM)               (None, 600)               3362400   \n",
            "                                                                 \n",
            " dense (Dense)               (None, 9812)              5897012   \n",
            "                                                                 \n",
            " dense_1 (Dense)             (None, 9812)              96285156  \n",
            "                                                                 \n",
            "=================================================================\n",
            "Total params: 109,330,168\n",
            "Trainable params: 109,330,168\n",
            "Non-trainable params: 0\n",
            "_________________________________________________________________\n"
          ]
        }
      ],
      "source": [
        "model.summary()"
      ]
    },
    {
      "cell_type": "code",
      "execution_count": 28,
      "metadata": {
        "colab": {
          "base_uri": "https://localhost:8080/"
        },
        "id": "h0Cidwafz08u",
        "outputId": "46bbdcd7-a3aa-40b2-88ce-6fe1ad1e6c7e"
      },
      "outputs": [
        {
          "output_type": "execute_result",
          "data": {
            "text/plain": [
              "9812"
            ]
          },
          "metadata": {},
          "execution_count": 28
        }
      ],
      "source": [
        "horizon * num_companies"
      ]
    },
    {
      "cell_type": "code",
      "execution_count": 29,
      "metadata": {
        "id": "XU47phEEh0nb",
        "colab": {
          "base_uri": "https://localhost:8080/"
        },
        "outputId": "e9c589e7-4333-41d4-84ce-26f035d4a093"
      },
      "outputs": [
        {
          "output_type": "stream",
          "name": "stdout",
          "text": [
            "Epoch 1/100\n",
            "5/5 - 14s - loss: 0.0505 - accuracy: 9.6432e-04 - val_loss: 0.0238 - val_accuracy: 0.0000e+00 - 14s/epoch - 3s/step\n",
            "Epoch 2/100\n",
            "5/5 - 8s - loss: 0.0233 - accuracy: 9.6432e-04 - val_loss: 0.0159 - val_accuracy: 0.0038 - 8s/epoch - 2s/step\n",
            "Epoch 3/100\n",
            "5/5 - 8s - loss: 0.0143 - accuracy: 0.0019 - val_loss: 0.0108 - val_accuracy: 0.0000e+00 - 8s/epoch - 2s/step\n",
            "Epoch 4/100\n",
            "5/5 - 8s - loss: 0.0105 - accuracy: 0.0000e+00 - val_loss: 0.0086 - val_accuracy: 0.0000e+00 - 8s/epoch - 2s/step\n",
            "Epoch 5/100\n",
            "5/5 - 8s - loss: 0.0080 - accuracy: 9.6432e-04 - val_loss: 0.0066 - val_accuracy: 0.0000e+00 - 8s/epoch - 2s/step\n",
            "Epoch 6/100\n",
            "5/5 - 8s - loss: 0.0063 - accuracy: 9.6432e-04 - val_loss: 0.0055 - val_accuracy: 0.0000e+00 - 8s/epoch - 2s/step\n",
            "Epoch 7/100\n",
            "5/5 - 8s - loss: 0.0053 - accuracy: 9.6432e-04 - val_loss: 0.0047 - val_accuracy: 0.0000e+00 - 8s/epoch - 2s/step\n",
            "Epoch 8/100\n",
            "5/5 - 8s - loss: 0.0046 - accuracy: 0.0000e+00 - val_loss: 0.0042 - val_accuracy: 0.0000e+00 - 8s/epoch - 2s/step\n",
            "Epoch 9/100\n",
            "5/5 - 8s - loss: 0.0042 - accuracy: 0.0039 - val_loss: 0.0037 - val_accuracy: 0.0038 - 8s/epoch - 2s/step\n",
            "Epoch 10/100\n",
            "5/5 - 8s - loss: 0.0037 - accuracy: 0.0048 - val_loss: 0.0033 - val_accuracy: 0.0077 - 8s/epoch - 2s/step\n",
            "Epoch 11/100\n",
            "5/5 - 8s - loss: 0.0033 - accuracy: 0.0039 - val_loss: 0.0030 - val_accuracy: 0.0038 - 8s/epoch - 2s/step\n",
            "Epoch 12/100\n",
            "5/5 - 8s - loss: 0.0030 - accuracy: 0.0048 - val_loss: 0.0027 - val_accuracy: 0.0000e+00 - 8s/epoch - 2s/step\n",
            "Epoch 13/100\n",
            "5/5 - 8s - loss: 0.0028 - accuracy: 0.0058 - val_loss: 0.0025 - val_accuracy: 0.0038 - 8s/epoch - 2s/step\n",
            "Epoch 14/100\n",
            "5/5 - 8s - loss: 0.0025 - accuracy: 0.0096 - val_loss: 0.0023 - val_accuracy: 0.0038 - 8s/epoch - 2s/step\n",
            "Epoch 15/100\n",
            "5/5 - 8s - loss: 0.0023 - accuracy: 0.0087 - val_loss: 0.0021 - val_accuracy: 0.0077 - 8s/epoch - 2s/step\n",
            "Epoch 16/100\n",
            "5/5 - 8s - loss: 0.0021 - accuracy: 0.0048 - val_loss: 0.0020 - val_accuracy: 0.0077 - 8s/epoch - 2s/step\n",
            "Epoch 17/100\n",
            "5/5 - 8s - loss: 0.0020 - accuracy: 0.0058 - val_loss: 0.0018 - val_accuracy: 0.0115 - 8s/epoch - 2s/step\n",
            "Epoch 18/100\n",
            "5/5 - 8s - loss: 0.0018 - accuracy: 0.0039 - val_loss: 0.0018 - val_accuracy: 0.0115 - 8s/epoch - 2s/step\n",
            "Epoch 19/100\n",
            "5/5 - 8s - loss: 0.0017 - accuracy: 0.0039 - val_loss: 0.0017 - val_accuracy: 0.0115 - 8s/epoch - 2s/step\n",
            "Epoch 20/100\n",
            "5/5 - 8s - loss: 0.0016 - accuracy: 0.0048 - val_loss: 0.0016 - val_accuracy: 0.0115 - 8s/epoch - 2s/step\n",
            "Epoch 21/100\n",
            "5/5 - 8s - loss: 0.0016 - accuracy: 0.0048 - val_loss: 0.0015 - val_accuracy: 0.0154 - 8s/epoch - 2s/step\n",
            "Epoch 22/100\n",
            "5/5 - 8s - loss: 0.0015 - accuracy: 0.0087 - val_loss: 0.0014 - val_accuracy: 0.0115 - 8s/epoch - 2s/step\n",
            "Epoch 23/100\n",
            "5/5 - 8s - loss: 0.0014 - accuracy: 0.0106 - val_loss: 0.0014 - val_accuracy: 0.0154 - 8s/epoch - 2s/step\n",
            "Epoch 24/100\n",
            "5/5 - 8s - loss: 0.0014 - accuracy: 0.0096 - val_loss: 0.0013 - val_accuracy: 0.0038 - 8s/epoch - 2s/step\n",
            "Epoch 25/100\n",
            "5/5 - 8s - loss: 0.0013 - accuracy: 0.0116 - val_loss: 0.0012 - val_accuracy: 0.0115 - 8s/epoch - 2s/step\n",
            "Epoch 26/100\n",
            "5/5 - 8s - loss: 0.0013 - accuracy: 0.0125 - val_loss: 0.0012 - val_accuracy: 0.0115 - 8s/epoch - 2s/step\n",
            "Epoch 27/100\n",
            "5/5 - 8s - loss: 0.0012 - accuracy: 0.0125 - val_loss: 0.0012 - val_accuracy: 0.0115 - 8s/epoch - 2s/step\n",
            "Epoch 28/100\n",
            "5/5 - 8s - loss: 0.0012 - accuracy: 0.0116 - val_loss: 0.0011 - val_accuracy: 0.0000e+00 - 8s/epoch - 2s/step\n",
            "Epoch 29/100\n",
            "5/5 - 8s - loss: 0.0011 - accuracy: 0.0125 - val_loss: 0.0011 - val_accuracy: 0.0077 - 8s/epoch - 2s/step\n",
            "Epoch 30/100\n",
            "5/5 - 8s - loss: 0.0011 - accuracy: 0.0125 - val_loss: 0.0011 - val_accuracy: 0.0115 - 8s/epoch - 2s/step\n",
            "Epoch 31/100\n",
            "5/5 - 8s - loss: 0.0011 - accuracy: 0.0116 - val_loss: 0.0010 - val_accuracy: 0.0154 - 8s/epoch - 2s/step\n",
            "Epoch 32/100\n",
            "5/5 - 8s - loss: 0.0011 - accuracy: 0.0135 - val_loss: 0.0010 - val_accuracy: 0.0077 - 8s/epoch - 2s/step\n",
            "Epoch 33/100\n",
            "5/5 - 8s - loss: 0.0010 - accuracy: 0.0125 - val_loss: 0.0010 - val_accuracy: 0.0077 - 8s/epoch - 2s/step\n",
            "Epoch 34/100\n",
            "5/5 - 8s - loss: 0.0010 - accuracy: 0.0145 - val_loss: 9.6622e-04 - val_accuracy: 0.0115 - 8s/epoch - 2s/step\n",
            "Epoch 35/100\n",
            "5/5 - 8s - loss: 9.7195e-04 - accuracy: 0.0125 - val_loss: 0.0010 - val_accuracy: 0.0154 - 8s/epoch - 2s/step\n",
            "Epoch 36/100\n",
            "5/5 - 8s - loss: 9.7324e-04 - accuracy: 0.0145 - val_loss: 9.5805e-04 - val_accuracy: 0.0115 - 8s/epoch - 2s/step\n",
            "Epoch 37/100\n",
            "5/5 - 8s - loss: 9.4538e-04 - accuracy: 0.0145 - val_loss: 9.3055e-04 - val_accuracy: 0.0115 - 8s/epoch - 2s/step\n",
            "Epoch 38/100\n",
            "5/5 - 8s - loss: 9.3384e-04 - accuracy: 0.0135 - val_loss: 9.8863e-04 - val_accuracy: 0.0154 - 8s/epoch - 2s/step\n",
            "Epoch 39/100\n",
            "5/5 - 8s - loss: 9.4527e-04 - accuracy: 0.0145 - val_loss: 9.0479e-04 - val_accuracy: 0.0192 - 8s/epoch - 2s/step\n",
            "Epoch 40/100\n",
            "5/5 - 8s - loss: 9.1626e-04 - accuracy: 0.0174 - val_loss: 9.4024e-04 - val_accuracy: 0.0192 - 8s/epoch - 2s/step\n",
            "Epoch 41/100\n",
            "5/5 - 8s - loss: 9.1173e-04 - accuracy: 0.0222 - val_loss: 9.0720e-04 - val_accuracy: 0.0192 - 8s/epoch - 2s/step\n",
            "Epoch 42/100\n",
            "5/5 - 8s - loss: 8.8093e-04 - accuracy: 0.0212 - val_loss: 8.6112e-04 - val_accuracy: 0.0154 - 8s/epoch - 2s/step\n",
            "Epoch 43/100\n",
            "5/5 - 8s - loss: 8.6151e-04 - accuracy: 0.0212 - val_loss: 8.9650e-04 - val_accuracy: 0.0115 - 8s/epoch - 2s/step\n",
            "Epoch 44/100\n",
            "5/5 - 8s - loss: 8.5313e-04 - accuracy: 0.0231 - val_loss: 8.3786e-04 - val_accuracy: 0.0192 - 8s/epoch - 2s/step\n",
            "Epoch 45/100\n",
            "5/5 - 8s - loss: 8.3053e-04 - accuracy: 0.0231 - val_loss: 8.4495e-04 - val_accuracy: 0.0154 - 8s/epoch - 2s/step\n",
            "Epoch 46/100\n",
            "5/5 - 8s - loss: 8.1471e-04 - accuracy: 0.0203 - val_loss: 8.1841e-04 - val_accuracy: 0.0154 - 8s/epoch - 2s/step\n",
            "Epoch 47/100\n",
            "5/5 - 8s - loss: 7.9405e-04 - accuracy: 0.0222 - val_loss: 7.9890e-04 - val_accuracy: 0.0115 - 8s/epoch - 2s/step\n",
            "Epoch 48/100\n",
            "5/5 - 8s - loss: 7.7692e-04 - accuracy: 0.0270 - val_loss: 7.7127e-04 - val_accuracy: 0.0231 - 8s/epoch - 2s/step\n",
            "Epoch 49/100\n",
            "5/5 - 8s - loss: 7.5187e-04 - accuracy: 0.0241 - val_loss: 7.8692e-04 - val_accuracy: 0.0154 - 8s/epoch - 2s/step\n",
            "Epoch 50/100\n",
            "5/5 - 8s - loss: 7.4303e-04 - accuracy: 0.0280 - val_loss: 7.0606e-04 - val_accuracy: 0.0115 - 8s/epoch - 2s/step\n",
            "Epoch 51/100\n",
            "5/5 - 8s - loss: 7.1076e-04 - accuracy: 0.0260 - val_loss: 7.7797e-04 - val_accuracy: 0.0192 - 8s/epoch - 2s/step\n",
            "Epoch 52/100\n",
            "5/5 - 8s - loss: 7.2187e-04 - accuracy: 0.0289 - val_loss: 6.9738e-04 - val_accuracy: 0.0192 - 8s/epoch - 2s/step\n",
            "Epoch 53/100\n",
            "5/5 - 8s - loss: 6.9152e-04 - accuracy: 0.0299 - val_loss: 7.2090e-04 - val_accuracy: 0.0154 - 8s/epoch - 2s/step\n",
            "Epoch 54/100\n",
            "5/5 - 8s - loss: 6.8499e-04 - accuracy: 0.0328 - val_loss: 7.0731e-04 - val_accuracy: 0.0192 - 8s/epoch - 2s/step\n",
            "Epoch 55/100\n",
            "5/5 - 8s - loss: 6.7533e-04 - accuracy: 0.0289 - val_loss: 6.8186e-04 - val_accuracy: 0.0192 - 8s/epoch - 2s/step\n",
            "Epoch 56/100\n",
            "5/5 - 8s - loss: 6.6275e-04 - accuracy: 0.0251 - val_loss: 6.7917e-04 - val_accuracy: 0.0231 - 8s/epoch - 2s/step\n",
            "Epoch 57/100\n",
            "5/5 - 8s - loss: 6.5187e-04 - accuracy: 0.0338 - val_loss: 6.7073e-04 - val_accuracy: 0.0269 - 8s/epoch - 2s/step\n",
            "Epoch 58/100\n",
            "5/5 - 8s - loss: 6.4144e-04 - accuracy: 0.0299 - val_loss: 6.6225e-04 - val_accuracy: 0.0231 - 8s/epoch - 2s/step\n",
            "Epoch 59/100\n",
            "5/5 - 8s - loss: 6.3012e-04 - accuracy: 0.0251 - val_loss: 6.3509e-04 - val_accuracy: 0.0231 - 8s/epoch - 2s/step\n",
            "Epoch 60/100\n",
            "5/5 - 8s - loss: 6.1987e-04 - accuracy: 0.0299 - val_loss: 6.5766e-04 - val_accuracy: 0.0346 - 8s/epoch - 2s/step\n",
            "Epoch 61/100\n",
            "5/5 - 8s - loss: 6.0811e-04 - accuracy: 0.0299 - val_loss: 6.1441e-04 - val_accuracy: 0.0231 - 8s/epoch - 2s/step\n",
            "Epoch 62/100\n",
            "5/5 - 8s - loss: 5.9787e-04 - accuracy: 0.0260 - val_loss: 6.3420e-04 - val_accuracy: 0.0269 - 8s/epoch - 2s/step\n",
            "Epoch 63/100\n",
            "5/5 - 8s - loss: 5.9032e-04 - accuracy: 0.0299 - val_loss: 6.0439e-04 - val_accuracy: 0.0269 - 8s/epoch - 2s/step\n",
            "Epoch 64/100\n",
            "5/5 - 8s - loss: 5.7561e-04 - accuracy: 0.0328 - val_loss: 6.1577e-04 - val_accuracy: 0.0269 - 8s/epoch - 2s/step\n",
            "Epoch 65/100\n",
            "5/5 - 8s - loss: 5.7127e-04 - accuracy: 0.0270 - val_loss: 5.8386e-04 - val_accuracy: 0.0231 - 8s/epoch - 2s/step\n",
            "Epoch 66/100\n",
            "5/5 - 8s - loss: 5.5704e-04 - accuracy: 0.0299 - val_loss: 6.0316e-04 - val_accuracy: 0.0308 - 8s/epoch - 2s/step\n",
            "Epoch 67/100\n",
            "5/5 - 8s - loss: 5.5448e-04 - accuracy: 0.0338 - val_loss: 5.6631e-04 - val_accuracy: 0.0269 - 8s/epoch - 2s/step\n",
            "Epoch 68/100\n",
            "5/5 - 8s - loss: 5.3970e-04 - accuracy: 0.0299 - val_loss: 5.8152e-04 - val_accuracy: 0.0231 - 8s/epoch - 2s/step\n",
            "Epoch 69/100\n",
            "5/5 - 8s - loss: 5.3649e-04 - accuracy: 0.0299 - val_loss: 5.5392e-04 - val_accuracy: 0.0269 - 8s/epoch - 2s/step\n",
            "Epoch 70/100\n",
            "5/5 - 8s - loss: 5.2334e-04 - accuracy: 0.0318 - val_loss: 5.6176e-04 - val_accuracy: 0.0269 - 8s/epoch - 2s/step\n",
            "Epoch 71/100\n",
            "5/5 - 8s - loss: 5.2113e-04 - accuracy: 0.0280 - val_loss: 5.4236e-04 - val_accuracy: 0.0269 - 8s/epoch - 2s/step\n",
            "Epoch 72/100\n",
            "5/5 - 8s - loss: 5.0702e-04 - accuracy: 0.0318 - val_loss: 5.5281e-04 - val_accuracy: 0.0231 - 8s/epoch - 2s/step\n",
            "Epoch 73/100\n",
            "5/5 - 8s - loss: 5.0857e-04 - accuracy: 0.0309 - val_loss: 5.3130e-04 - val_accuracy: 0.0231 - 8s/epoch - 2s/step\n",
            "Epoch 74/100\n",
            "5/5 - 8s - loss: 4.9423e-04 - accuracy: 0.0309 - val_loss: 5.4331e-04 - val_accuracy: 0.0231 - 8s/epoch - 2s/step\n",
            "Epoch 75/100\n",
            "5/5 - 8s - loss: 4.9577e-04 - accuracy: 0.0280 - val_loss: 5.2930e-04 - val_accuracy: 0.0192 - 8s/epoch - 2s/step\n",
            "Epoch 76/100\n",
            "5/5 - 8s - loss: 4.8647e-04 - accuracy: 0.0309 - val_loss: 5.3598e-04 - val_accuracy: 0.0231 - 8s/epoch - 2s/step\n",
            "Epoch 77/100\n",
            "5/5 - 8s - loss: 4.8734e-04 - accuracy: 0.0299 - val_loss: 5.2964e-04 - val_accuracy: 0.0231 - 8s/epoch - 2s/step\n",
            "Epoch 78/100\n",
            "5/5 - 8s - loss: 4.8165e-04 - accuracy: 0.0289 - val_loss: 5.2737e-04 - val_accuracy: 0.0231 - 8s/epoch - 2s/step\n",
            "Epoch 79/100\n",
            "5/5 - 8s - loss: 4.7939e-04 - accuracy: 0.0328 - val_loss: 5.1759e-04 - val_accuracy: 0.0192 - 8s/epoch - 2s/step\n",
            "Epoch 80/100\n",
            "5/5 - 8s - loss: 4.7269e-04 - accuracy: 0.0347 - val_loss: 5.3661e-04 - val_accuracy: 0.0231 - 8s/epoch - 2s/step\n",
            "Epoch 81/100\n",
            "5/5 - 8s - loss: 4.7925e-04 - accuracy: 0.0328 - val_loss: 5.0543e-04 - val_accuracy: 0.0231 - 8s/epoch - 2s/step\n",
            "Epoch 82/100\n",
            "5/5 - 8s - loss: 4.6432e-04 - accuracy: 0.0318 - val_loss: 5.3382e-04 - val_accuracy: 0.0231 - 8s/epoch - 2s/step\n",
            "Epoch 83/100\n",
            "5/5 - 8s - loss: 4.7404e-04 - accuracy: 0.0328 - val_loss: 4.9869e-04 - val_accuracy: 0.0192 - 8s/epoch - 2s/step\n",
            "Epoch 84/100\n",
            "5/5 - 8s - loss: 4.6111e-04 - accuracy: 0.0366 - val_loss: 5.3099e-04 - val_accuracy: 0.0192 - 8s/epoch - 2s/step\n",
            "Epoch 85/100\n",
            "5/5 - 8s - loss: 4.7263e-04 - accuracy: 0.0347 - val_loss: 4.9520e-04 - val_accuracy: 0.0231 - 8s/epoch - 2s/step\n",
            "Epoch 86/100\n",
            "5/5 - 8s - loss: 4.5849e-04 - accuracy: 0.0309 - val_loss: 5.2185e-04 - val_accuracy: 0.0231 - 8s/epoch - 2s/step\n",
            "Epoch 87/100\n",
            "5/5 - 8s - loss: 4.6749e-04 - accuracy: 0.0357 - val_loss: 5.0186e-04 - val_accuracy: 0.0231 - 8s/epoch - 2s/step\n",
            "Epoch 88/100\n",
            "5/5 - 8s - loss: 4.5862e-04 - accuracy: 0.0328 - val_loss: 5.1573e-04 - val_accuracy: 0.0269 - 8s/epoch - 2s/step\n",
            "Epoch 89/100\n",
            "5/5 - 8s - loss: 4.6909e-04 - accuracy: 0.0309 - val_loss: 5.0833e-04 - val_accuracy: 0.0231 - 8s/epoch - 2s/step\n",
            "Epoch 90/100\n",
            "5/5 - 8s - loss: 4.5398e-04 - accuracy: 0.0338 - val_loss: 5.0401e-04 - val_accuracy: 0.0269 - 8s/epoch - 2s/step\n",
            "Epoch 91/100\n",
            "5/5 - 8s - loss: 4.6912e-04 - accuracy: 0.0347 - val_loss: 5.1311e-04 - val_accuracy: 0.0269 - 8s/epoch - 2s/step\n",
            "Epoch 92/100\n",
            "5/5 - 8s - loss: 4.5298e-04 - accuracy: 0.0338 - val_loss: 5.0414e-04 - val_accuracy: 0.0231 - 8s/epoch - 2s/step\n",
            "Epoch 93/100\n",
            "5/5 - 8s - loss: 4.6373e-04 - accuracy: 0.0328 - val_loss: 5.0706e-04 - val_accuracy: 0.0269 - 8s/epoch - 2s/step\n",
            "Epoch 94/100\n",
            "5/5 - 8s - loss: 4.4338e-04 - accuracy: 0.0328 - val_loss: 4.9168e-04 - val_accuracy: 0.0231 - 8s/epoch - 2s/step\n",
            "Epoch 95/100\n",
            "5/5 - 8s - loss: 4.5189e-04 - accuracy: 0.0357 - val_loss: 5.0978e-04 - val_accuracy: 0.0269 - 8s/epoch - 2s/step\n",
            "Epoch 96/100\n",
            "5/5 - 8s - loss: 4.3974e-04 - accuracy: 0.0386 - val_loss: 4.8068e-04 - val_accuracy: 0.0308 - 8s/epoch - 2s/step\n",
            "Epoch 97/100\n",
            "5/5 - 8s - loss: 4.3838e-04 - accuracy: 0.0338 - val_loss: 5.2366e-04 - val_accuracy: 0.0269 - 8s/epoch - 2s/step\n",
            "Epoch 98/100\n",
            "5/5 - 8s - loss: 4.4757e-04 - accuracy: 0.0357 - val_loss: 4.8690e-04 - val_accuracy: 0.0269 - 8s/epoch - 2s/step\n",
            "Epoch 99/100\n",
            "5/5 - 8s - loss: 4.3802e-04 - accuracy: 0.0376 - val_loss: 5.1616e-04 - val_accuracy: 0.0269 - 8s/epoch - 2s/step\n",
            "Epoch 100/100\n",
            "5/5 - 8s - loss: 4.4373e-04 - accuracy: 0.0376 - val_loss: 5.0825e-04 - val_accuracy: 0.0308 - 8s/epoch - 2s/step\n"
          ]
        }
      ],
      "source": [
        "# Early stopping severly *underfits* the data, we are going for better results\n",
        "\n",
        "# early_stopping = EarlyStopping(\n",
        "#     monitor='val_loss', \n",
        "#     patience=11, \n",
        "#     min_delta=0.000000001, \n",
        "#     mode='max'\n",
        "# )\n",
        "\n",
        "history = model.fit(X_train,y_train,epochs=EPOCHS,\n",
        "                    validation_data=(X_validate,y_validate),\n",
        "                    shuffle=False,batch_size=256, verbose=2)"
      ]
    },
    {
      "cell_type": "markdown",
      "metadata": {
        "id": "3PJ1N9Bunuge"
      },
      "source": [
        "Plotting the learning curve - Loss"
      ]
    },
    {
      "cell_type": "code",
      "execution_count": 30,
      "metadata": {
        "id": "ZR2v6RStjjLj",
        "colab": {
          "base_uri": "https://localhost:8080/",
          "height": 592
        },
        "outputId": "81644c34-34e0-4043-8e2e-2d345638a506"
      },
      "outputs": [
        {
          "output_type": "display_data",
          "data": {
            "text/plain": [
              "<Figure size 1080x720 with 1 Axes>"
            ],
            "image/png": "[encoded data removed]"
          },
          "metadata": {
            "needs_background": "light"
          }
        }
      ],
      "source": [
        "plt.figure(figsize = (15,10))\n",
        "\n",
        "plt.plot(history.history['loss'], label='loss')\n",
        "plt.plot(history.history['val_loss'], label='val_loss')\n",
        "plt.legend(loc='best')\n",
        "plt.show()"
      ]
    },
    {
      "cell_type": "code",
      "execution_count": 31,
      "metadata": {
        "id": "nvi8zQkMT8wj",
        "colab": {
          "base_uri": "https://localhost:8080/",
          "height": 592
        },
        "outputId": "5fcaed2a-e3f5-4417-dabf-cb0dd3dff5d4"
      },
      "outputs": [
        {
          "output_type": "display_data",
          "data": {
            "text/plain": [
              "<Figure size 1080x720 with 1 Axes>"
            ],
            "image/png": "[encoded data removed]"
          },
          "metadata": {
            "needs_background": "light"
          }
        }
      ],
      "source": [
        "plt.figure(figsize = (15,10))\n",
        "\n",
        "plt.plot(history.history['accuracy'], label='accuracy')\n",
        "plt.plot(history.history['val_accuracy'], label='val_accuracy')\n",
        "plt.legend(loc='best')\n",
        "plt.show()"
      ]
    },
    {
      "cell_type": "markdown",
      "metadata": {
        "id": "LWQeHzFijuTn"
      },
      "source": [
        "### Predicting Test Results"
      ]
    },
    {
      "cell_type": "code",
      "execution_count": 32,
      "metadata": {
        "id": "zTwvIkOVjxPK",
        "colab": {
          "base_uri": "https://localhost:8080/"
        },
        "outputId": "eccdc390-73cd-4518-f065-99414430c052"
      },
      "outputs": [
        {
          "output_type": "execute_result",
          "data": {
            "text/plain": [
              "(19, 9812)"
            ]
          },
          "metadata": {},
          "execution_count": 32
        }
      ],
      "source": [
        "\n",
        "X_test, void = processData(PCA_test,lookback,horizon,num_companies,horizon)\n",
        "void, y_test = processData(array_test,lookback,horizon,num_companies,horizon) \n",
        "y_test = np.array([list(a.ravel()) for a in y_test])\n",
        "\n",
        "\n",
        "Xt = model.predict(X_test)\n",
        "Xt.shape"
      ]
    },
    {
      "cell_type": "markdown",
      "metadata": {
        "id": "q-MFu8-Wj26n"
      },
      "source": [
        "### Un-scaling the data and returning data to original shape\n",
        "Because the results were scaled to train the model, the output is non sensible until we return the data into its original form"
      ]
    },
    {
      "cell_type": "code",
      "execution_count": 33,
      "metadata": {
        "id": "YCZa7bH3nrrG"
      },
      "outputs": [],
      "source": [
        "#Aux function 1\n",
        "def do_inverse_transform(output_result,num_companies):\n",
        "    #transform to input shape\n",
        "    original_matrix_format = []\n",
        "    for result in output_result:\n",
        "        #do inverse transform\n",
        "        original_matrix_format.append(scl.inverse_transform([result[x:x+num_companies] for x in range(0, len(result), num_companies)]))\n",
        "    original_matrix_format = np.array(original_matrix_format)\n",
        "    \n",
        "    #restore to original shape\n",
        "    for i in range(len(original_matrix_format)):\n",
        "        output_result[i] = original_matrix_format[i].ravel()\n",
        "\n",
        "    return output_result"
      ]
    },
    {
      "cell_type": "code",
      "execution_count": 34,
      "metadata": {
        "id": "m4IeTsnRoMmt"
      },
      "outputs": [],
      "source": [
        "#Aux function 2\n",
        "def prediction_by_step_by_company(raw_model_output, num_companies):\n",
        "    matrix_prediction = []\n",
        "    for i in range(0,num_companies):\n",
        "        matrix_prediction.append([[lista[j] for j in range(i,len(lista),num_companies)] for lista in raw_model_output])\n",
        "    return np.array(matrix_prediction)"
      ]
    },
    {
      "cell_type": "code",
      "execution_count": 35,
      "metadata": {
        "id": "WUNBSxTNonPf"
      },
      "outputs": [],
      "source": [
        "#Aux function 3\n",
        "def target_by_company(raw_model_output, num_companies):\n",
        "    matrix_target = [[] for x in range(num_companies)]\n",
        "    \n",
        "    for output in raw_model_output:\n",
        "        for i in range (num_companies):\n",
        "            for j in range(0,len(output),num_companies):\n",
        "                matrix_target[i].append(output[i+j])\n",
        "    return np.array(matrix_target)"
      ]
    },
    {
      "cell_type": "code",
      "execution_count": 36,
      "metadata": {
        "id": "xUwRD23joasO",
        "colab": {
          "base_uri": "https://localhost:8080/"
        },
        "outputId": "5edaa421-53bd-442e-8fa3-42c5a5906edf"
      },
      "outputs": [
        {
          "output_type": "execute_result",
          "data": {
            "text/plain": [
              "(446, 19, 22)"
            ]
          },
          "metadata": {},
          "execution_count": 36
        }
      ],
      "source": [
        "Xt = do_inverse_transform(Xt, num_companies)\n",
        "predictions = prediction_by_step_by_company(Xt, num_companies)\n",
        "predictions.shape"
      ]
    },
    {
      "cell_type": "code",
      "execution_count": 37,
      "metadata": {
        "id": "KwnpZOfKouQ7",
        "colab": {
          "base_uri": "https://localhost:8080/"
        },
        "outputId": "ae83e725-38ae-4113-a8ff-9e5b211adcc8"
      },
      "outputs": [
        {
          "output_type": "execute_result",
          "data": {
            "text/plain": [
              "(446, 418)"
            ]
          },
          "metadata": {},
          "execution_count": 37
        }
      ],
      "source": [
        "Yt = do_inverse_transform(y_test, num_companies)\n",
        "\n",
        "actuals = target_by_company(Yt, num_companies)\n",
        "actuals.shape"
      ]
    },
    {
      "cell_type": "markdown",
      "metadata": {
        "id": "8Na0yhNFp0iW"
      },
      "source": [
        "### Prediction Results on Test Data - Plot"
      ]
    },
    {
      "cell_type": "code",
      "execution_count": 38,
      "metadata": {
        "id": "taD2NcrysbYw",
        "colab": {
          "base_uri": "https://localhost:8080/",
          "height": 592
        },
        "outputId": "16462a97-b39f-4ef3-eacc-244106fc919d"
      },
      "outputs": [
        {
          "output_type": "display_data",
          "data": {
            "text/plain": [
              "<Figure size 1080x720 with 1 Axes>"
            ],
            "image/png": "[encoded data removed]"
          },
          "metadata": {
            "needs_background": "light"
          }
        }
      ],
      "source": [
        "plt.figure(figsize = (15,10))\n",
        "\n",
        "companies_to_show = [2] \n",
        "colors = ['r','g','c','m','y','k','w','b']\n",
        "companies_names = ['A', 'AAPL', 'ABC', 'ABMD']\n",
        " \n",
        "for id_company in companies_to_show:\n",
        "    for i in range(0,len(predictions[id_company])):\n",
        "        plt.plot([x + i*horizon for x in range(len(predictions[id_company][i]))], predictions[id_company][i], color=colors[id_company])\n",
        "    plt.plot(0,predictions[id_company][0][0] ,color=colors[id_company], label='predict_{}'.format(companies_names[id_company])) #only to place the label\n",
        "\n",
        "   \n",
        "\n",
        "for id_company in companies_to_show:\n",
        "    plt.plot(actuals[id_company], label='target_{}'.format(companies_names[id_company]))\n",
        "\n",
        "plt.legend(loc='best')\n",
        "plt.show()"
      ]
    },
    {
      "cell_type": "code",
      "execution_count": 39,
      "metadata": {
        "id": "ZQDxv1cYQZlU"
      },
      "outputs": [],
      "source": [
        "full_PCA = np.concatenate((PCA_train,PCA_test),axis = 0)"
      ]
    },
    {
      "cell_type": "code",
      "execution_count": 40,
      "metadata": {
        "id": "ZeFZszhKo9j5"
      },
      "outputs": [],
      "source": [
        "X_all,void = processData(full_PCA,lookback,horizon,num_companies,horizon)\n",
        "void,y_all = processData(scl.fit_transform(df_close),lookback,horizon,num_companies,horizon)\n",
        "y_all = np.array([list(a.ravel()) for a in y_all])"
      ]
    },
    {
      "cell_type": "code",
      "execution_count": 41,
      "metadata": {
        "id": "mx5EfjXMpdZm",
        "colab": {
          "base_uri": "https://localhost:8080/"
        },
        "outputId": "78398a1b-a35e-4b2f-b76e-542c91b44713"
      },
      "outputs": [
        {
          "output_type": "execute_result",
          "data": {
            "text/plain": [
              "(90, 9812)"
            ]
          },
          "metadata": {},
          "execution_count": 41
        }
      ],
      "source": [
        "Xt = model.predict(X_all)\n",
        "Xt.shape"
      ]
    },
    {
      "cell_type": "code",
      "execution_count": 42,
      "metadata": {
        "id": "mZOuyY6gplgY",
        "colab": {
          "base_uri": "https://localhost:8080/"
        },
        "outputId": "a589c6d6-bede-4824-e8ac-bb40d6afcae9"
      },
      "outputs": [
        {
          "output_type": "execute_result",
          "data": {
            "text/plain": [
              "(446, 90, 22)"
            ]
          },
          "metadata": {},
          "execution_count": 42
        }
      ],
      "source": [
        "Xt = do_inverse_transform(Xt, num_companies)\n",
        "\n",
        "predictions = prediction_by_step_by_company(Xt, num_companies)\n",
        "predictions.shape"
      ]
    },
    {
      "cell_type": "code",
      "execution_count": 43,
      "metadata": {
        "id": "5Q1JgTd2pq1R",
        "colab": {
          "base_uri": "https://localhost:8080/"
        },
        "outputId": "28ebc0ea-a64f-46e9-da38-f01a16530303"
      },
      "outputs": [
        {
          "output_type": "execute_result",
          "data": {
            "text/plain": [
              "(446, 2244)"
            ]
          },
          "metadata": {},
          "execution_count": 43
        }
      ],
      "source": [
        "Yt = do_inverse_transform(y_all, num_companies)\n",
        "\n",
        "actuals = target_by_company(Yt, num_companies)\n",
        "actuals.shape"
      ]
    },
    {
      "cell_type": "markdown",
      "metadata": {
        "id": "vyYKDoDFp8QI"
      },
      "source": [
        "### Prediction Results on Full Data - Plot"
      ]
    },
    {
      "cell_type": "code",
      "execution_count": 44,
      "metadata": {
        "id": "E-CdUYZipvpo",
        "colab": {
          "base_uri": "https://localhost:8080/",
          "height": 276
        },
        "outputId": "47937cc1-d0cb-435e-dbc2-2260e8144eb2"
      },
      "outputs": [
        {
          "output_type": "display_data",
          "data": {
            "text/plain": [
              "<Figure size 2880x720 with 1 Axes>"
            ],
            "image/png": "[encoded data removed]"
          },
          "metadata": {
            "needs_background": "light"
          }
        }
      ],
      "source": [
        "plt.figure(figsize = (40,10))\n",
        "\n",
        "companies_to_show = [2] #Type a number between 0:4 to see 4 different companies\n",
        "colors = ['r','g','c','m','y','k','w','b']\n",
        "companies_names = ['A', 'B', 'C', 'D']\n",
        "\n",
        "    \n",
        "for id_company in companies_to_show:\n",
        "    for i in range(0,len(predictions[id_company])):\n",
        "        plt.plot([x + i*horizon for x in range(len(predictions[id_company][i]))], predictions[id_company][i], color=colors[id_company])\n",
        "    plt.plot(0,predictions[id_company][0][0] ,color=colors[id_company], label='predict_{}'.format(companies_names[id_company])) #only to place the label\n",
        "\n",
        "   \n",
        "\n",
        "for id_company in companies_to_show:\n",
        "    plt.plot(actuals[id_company], label='target_{}'.format(companies_names[id_company]))\n",
        "\n",
        "plt.legend(loc='best')\n",
        "plt.show()\n",
        "\n",
        "##QQ-plot"
      ]
    },
    {
      "cell_type": "markdown",
      "metadata": {
        "id": "rAKKjncvLPb2"
      },
      "source": [
        "# Stock Prices Predictions"
      ]
    },
    {
      "cell_type": "code",
      "execution_count": 45,
      "metadata": {
        "id": "JhOmsdNhLO1c",
        "colab": {
          "base_uri": "https://localhost:8080/"
        },
        "outputId": "b3976fb8-f4d3-4bcf-aa99-37a07163dacb"
      },
      "outputs": [
        {
          "output_type": "stream",
          "name": "stdout",
          "text": [
            "1980\n"
          ]
        }
      ],
      "source": [
        "predicted_prices = np.zeros((predictions.shape[1]*predictions.shape[2],predictions.shape[0]))\n",
        "# actual_prices = []\n",
        "\n",
        "for i in range(predictions.shape[0]):\n",
        "  counter = 0\n",
        "  for j in range(predictions.shape[1]):\n",
        "    for z in range(predictions.shape[2]):\n",
        "      predicted_prices[counter, i] = predictions[i,j,z]\n",
        "      counter+=1\n",
        "\n",
        "print(counter)"
      ]
    },
    {
      "cell_type": "code",
      "execution_count": 46,
      "metadata": {
        "id": "Nb-cYBcyUioe"
      },
      "outputs": [],
      "source": [
        "#actuals_prices = actuals[:,:4488].T\n",
        "actuals_prices = actuals[:,:1980].T"
      ]
    },
    {
      "cell_type": "code",
      "execution_count": 47,
      "metadata": {
        "id": "ATR5Q-ypOkIV",
        "colab": {
          "base_uri": "https://localhost:8080/"
        },
        "outputId": "e74d46fa-005f-4225-ed38-35fe8628ce5c"
      },
      "outputs": [
        {
          "output_type": "stream",
          "name": "stdout",
          "text": [
            "(1980, 446)\n",
            "(1980, 446)\n",
            "(2516,)\n"
          ]
        }
      ],
      "source": [
        "print(predicted_prices.shape)\n",
        "print(actuals_prices.shape)\n",
        "print(dates.shape)\n",
        "#(lookback+1, )"
      ]
    },
    {
      "cell_type": "code",
      "execution_count": 48,
      "metadata": {
        "id": "FQXBQHNLVjVe",
        "colab": {
          "base_uri": "https://localhost:8080/"
        },
        "outputId": "3767d7bb-fc81-4afe-aca9-afbc14c735c8"
      },
      "outputs": [
        {
          "output_type": "execute_result",
          "data": {
            "text/plain": [
              "2007"
            ]
          },
          "metadata": {},
          "execution_count": 48
        }
      ],
      "source": [
        "(2516-lookback+1-258) #-4488"
      ]
    },
    {
      "cell_type": "code",
      "execution_count": 49,
      "metadata": {
        "id": "wFdRyJe_LjkP"
      },
      "outputs": [],
      "source": [
        "# Need to remove certain days because we predict into the future. But, we aren't able to test these predicted days\n",
        "# against actual days in our porfolio optimization\n",
        "\n",
        "#actual_prices = pd.DataFrame(data = actuals_prices, columns = stocks,index = dates[lookback+1:5028-287])\n",
        "#predicted_prices = pd.DataFrame(data = predicted_prices,columns=stocks, index = dates[lookback+1:5028-287])\n",
        "actual_prices = pd.DataFrame(data = actuals_prices, columns = stocks,index = dates[lookback+1:2520-287])\n",
        "predicted_prices = pd.DataFrame(data = predicted_prices,columns=stocks, index = dates[lookback+1:2520-287])"
      ]
    },
    {
      "cell_type": "code",
      "source": [
        "actual_prices"
      ],
      "metadata": {
        "colab": {
          "base_uri": "https://localhost:8080/",
          "height": 779
        },
        "id": "5XLhMrd0giaW",
        "outputId": "6ab24c1d-436a-4d1f-ac29-c60d6fb4fd02"
      },
      "execution_count": 50,
      "outputs": [
        {
          "output_type": "execute_result",
          "data": {
            "text/plain": [
              "tic                  A        AAL         AAP        AAPL         ABC  \\\n",
              "date                                                                    \n",
              "2013-05-15   31.452074  18.100000   86.120003   15.852143   54.959999   \n",
              "2013-05-16   32.675251  18.809999   86.400002   15.316071   55.009998   \n",
              "2013-05-17   32.181686  19.120001   85.419998   15.520714   54.400002   \n",
              "2013-05-20   32.589413  19.010000   86.160004   15.473571   54.990002   \n",
              "2013-05-21   33.147354  18.590000   86.519997   15.818929   54.820000   \n",
              "...                ...        ...         ...         ...         ...   \n",
              "2021-03-19  122.589996  24.700001  183.729996  120.529999  115.629997   \n",
              "2021-03-22  122.690002  24.969999  186.000000  119.989998  115.919998   \n",
              "2021-03-23  123.610001  23.830000  182.990005  123.389999  116.349998   \n",
              "2021-03-24  121.980003  22.270000  179.529999  122.540001  113.769997   \n",
              "2021-03-25  120.839996  21.809999  181.729996  120.089996  115.370003   \n",
              "\n",
              "tic               ABMD         ABT         ACN        ADBE         ADI  ...  \\\n",
              "date                                                                    ...   \n",
              "2013-05-15   23.150000   37.049999   80.550003   44.040001   46.340000  ...   \n",
              "2013-05-16   23.219999   37.660000   80.760002   45.070000   46.689999  ...   \n",
              "2013-05-17   23.110001   36.830002   80.610001   44.560001   46.500000  ...   \n",
              "2013-05-20   23.330000   36.590000   82.239998   44.610001   47.020000  ...   \n",
              "2013-05-21   23.110001   37.810001   82.529999   44.290001   46.869999  ...   \n",
              "...                ...         ...         ...         ...         ...  ...   \n",
              "2021-03-19  298.859985  118.110001  266.890015  439.179993  149.449997  ...   \n",
              "2021-03-22  299.809998  120.250000  263.779999  441.500000  151.910004  ...   \n",
              "2021-03-23  306.160004  121.470001  265.200012  452.410004  154.500000  ...   \n",
              "2021-03-24  298.619995  120.489998  266.029999  460.200012  150.490005  ...   \n",
              "2021-03-25  294.209991  118.019997  267.549988  451.510010  150.440002  ...   \n",
              "\n",
              "tic               WYNN        XEL        XOM       XRAY        XRX  \\\n",
              "date                                                                 \n",
              "2013-05-15  142.139999  30.030001  91.110001  42.799999  23.504610   \n",
              "2013-05-16  139.759995  30.330000  91.239998  42.529999  23.715414   \n",
              "2013-05-17  139.360001  30.139999  90.699997  42.180000  23.083004   \n",
              "2013-05-20  140.990005  30.420000  91.760002  42.279999  23.241108   \n",
              "2013-05-21  143.110001  30.250000  92.519997  42.180000  23.610012   \n",
              "...                ...        ...        ...        ...        ...   \n",
              "2021-03-19  135.649994  62.400002  56.810001  63.049999  24.799999   \n",
              "2021-03-22  135.479996  62.990002  56.490002  62.759998  24.790001   \n",
              "2021-03-23  132.869995  63.750000  55.910000  62.439999  24.840000   \n",
              "2021-03-24  125.150002  65.440002  55.220001  59.930000  23.629999   \n",
              "2021-03-25  125.180000  65.580002  56.340000  60.349998  23.480000   \n",
              "\n",
              "tic                XYL         YUM         ZBH        ZBRA       ZION  \n",
              "date                                                                   \n",
              "2013-05-15   28.309999   50.431343   78.533981   46.599998  27.059999  \n",
              "2013-05-16   28.600000   50.265995   78.631065   46.490002  26.969999  \n",
              "2013-05-17   28.639999   50.057514   78.271843   46.169998  26.850000  \n",
              "2013-05-20   28.930000   50.438534   78.000000   46.209999  27.389999  \n",
              "2013-05-21   28.879999   50.654205   78.456314   46.189999  27.700001  \n",
              "...                ...         ...         ...         ...        ...  \n",
              "2021-03-19  104.169998  108.309998  154.262131  461.109985  57.299999  \n",
              "2021-03-22  104.010002  107.959999  155.495148  459.950012  56.450001  \n",
              "2021-03-23  102.430000  108.750000  155.572815  463.769989  55.279999  \n",
              "2021-03-24  100.400002  108.000000  151.592239  462.649994  53.580002  \n",
              "2021-03-25  101.110001  107.080002  152.864075  463.809998  53.009998  \n",
              "\n",
              "[1980 rows x 446 columns]"
            ],
            "text/html": [
              "\n",
              "  <div id=\"df-815220e0-7675-49c4-97c9-a0ab4d0d853c\">\n",
              "    <div class=\"colab-df-container\">\n",
              "      <div>\n",
              "<style scoped>\n",
              "    .dataframe tbody tr th:only-of-type {\n",
              "        vertical-align: middle;\n",
              "    }\n",
              "\n",
              "    .dataframe tbody tr th {\n",
              "        vertical-align: top;\n",
              "    }\n",
              "\n",
              "    .dataframe thead th {\n",
              "        text-align: right;\n",
              "    }\n",
              "</style>\n",
              "<table border=\"1\" class=\"dataframe\">\n",
              "  <thead>\n",
              "    <tr style=\"text-align: right;\">\n",
              "      <th>tic</th>\n",
              "      <th>A</th>\n",
              "      <th>AAL</th>\n",
              "      <th>AAP</th>\n",
              "      <th>AAPL</th>\n",
              "      <th>ABC</th>\n",
              "      <th>ABMD</th>\n",
              "      <th>ABT</th>\n",
              "      <th>ACN</th>\n",
              "      <th>ADBE</th>\n",
              "      <th>ADI</th>\n",
              "      <th>...</th>\n",
              "      <th>WYNN</th>\n",
              "      <th>XEL</th>\n",
              "      <th>XOM</th>\n",
              "      <th>XRAY</th>\n",
              "      <th>XRX</th>\n",
              "      <th>XYL</th>\n",
              "      <th>YUM</th>\n",
              "      <th>ZBH</th>\n",
              "      <th>ZBRA</th>\n",
              "      <th>ZION</th>\n",
              "    </tr>\n",
              "    <tr>\n",
              "      <th>date</th>\n",
              "      <th></th>\n",
              "      <th></th>\n",
              "      <th></th>\n",
              "      <th></th>\n",
              "      <th></th>\n",
              "      <th></th>\n",
              "      <th></th>\n",
              "      <th></th>\n",
              "      <th></th>\n",
              "      <th></th>\n",
              "      <th></th>\n",
              "      <th></th>\n",
              "      <th></th>\n",
              "      <th></th>\n",
              "      <th></th>\n",
              "      <th></th>\n",
              "      <th></th>\n",
              "      <th></th>\n",
              "      <th></th>\n",
              "      <th></th>\n",
              "      <th></th>\n",
              "    </tr>\n",
              "  </thead>\n",
              "  <tbody>\n",
              "    <tr>\n",
              "      <th>2013-05-15</th>\n",
              "      <td>31.452074</td>\n",
              "      <td>18.100000</td>\n",
              "      <td>86.120003</td>\n",
              "      <td>15.852143</td>\n",
              "      <td>54.959999</td>\n",
              "      <td>23.150000</td>\n",
              "      <td>37.049999</td>\n",
              "      <td>80.550003</td>\n",
              "      <td>44.040001</td>\n",
              "      <td>46.340000</td>\n",
              "      <td>...</td>\n",
              "      <td>142.139999</td>\n",
              "      <td>30.030001</td>\n",
              "      <td>91.110001</td>\n",
              "      <td>42.799999</td>\n",
              "      <td>23.504610</td>\n",
              "      <td>28.309999</td>\n",
              "      <td>50.431343</td>\n",
              "      <td>78.533981</td>\n",
              "      <td>46.599998</td>\n",
              "      <td>27.059999</td>\n",
              "    </tr>\n",
              "    <tr>\n",
              "      <th>2013-05-16</th>\n",
              "      <td>32.675251</td>\n",
              "      <td>18.809999</td>\n",
              "      <td>86.400002</td>\n",
              "      <td>15.316071</td>\n",
              "      <td>55.009998</td>\n",
              "      <td>23.219999</td>\n",
              "      <td>37.660000</td>\n",
              "      <td>80.760002</td>\n",
              "      <td>45.070000</td>\n",
              "      <td>46.689999</td>\n",
              "      <td>...</td>\n",
              "      <td>139.759995</td>\n",
              "      <td>30.330000</td>\n",
              "      <td>91.239998</td>\n",
              "      <td>42.529999</td>\n",
              "      <td>23.715414</td>\n",
              "      <td>28.600000</td>\n",
              "      <td>50.265995</td>\n",
              "      <td>78.631065</td>\n",
              "      <td>46.490002</td>\n",
              "      <td>26.969999</td>\n",
              "    </tr>\n",
              "    <tr>\n",
              "      <th>2013-05-17</th>\n",
              "      <td>32.181686</td>\n",
              "      <td>19.120001</td>\n",
              "      <td>85.419998</td>\n",
              "      <td>15.520714</td>\n",
              "      <td>54.400002</td>\n",
              "      <td>23.110001</td>\n",
              "      <td>36.830002</td>\n",
              "      <td>80.610001</td>\n",
              "      <td>44.560001</td>\n",
              "      <td>46.500000</td>\n",
              "      <td>...</td>\n",
              "      <td>139.360001</td>\n",
              "      <td>30.139999</td>\n",
              "      <td>90.699997</td>\n",
              "      <td>42.180000</td>\n",
              "      <td>23.083004</td>\n",
              "      <td>28.639999</td>\n",
              "      <td>50.057514</td>\n",
              "      <td>78.271843</td>\n",
              "      <td>46.169998</td>\n",
              "      <td>26.850000</td>\n",
              "    </tr>\n",
              "    <tr>\n",
              "      <th>2013-05-20</th>\n",
              "      <td>32.589413</td>\n",
              "      <td>19.010000</td>\n",
              "      <td>86.160004</td>\n",
              "      <td>15.473571</td>\n",
              "      <td>54.990002</td>\n",
              "      <td>23.330000</td>\n",
              "      <td>36.590000</td>\n",
              "      <td>82.239998</td>\n",
              "      <td>44.610001</td>\n",
              "      <td>47.020000</td>\n",
              "      <td>...</td>\n",
              "      <td>140.990005</td>\n",
              "      <td>30.420000</td>\n",
              "      <td>91.760002</td>\n",
              "      <td>42.279999</td>\n",
              "      <td>23.241108</td>\n",
              "      <td>28.930000</td>\n",
              "      <td>50.438534</td>\n",
              "      <td>78.000000</td>\n",
              "      <td>46.209999</td>\n",
              "      <td>27.389999</td>\n",
              "    </tr>\n",
              "    <tr>\n",
              "      <th>2013-05-21</th>\n",
              "      <td>33.147354</td>\n",
              "      <td>18.590000</td>\n",
              "      <td>86.519997</td>\n",
              "      <td>15.818929</td>\n",
              "      <td>54.820000</td>\n",
              "      <td>23.110001</td>\n",
              "      <td>37.810001</td>\n",
              "      <td>82.529999</td>\n",
              "      <td>44.290001</td>\n",
              "      <td>46.869999</td>\n",
              "      <td>...</td>\n",
              "      <td>143.110001</td>\n",
              "      <td>30.250000</td>\n",
              "      <td>92.519997</td>\n",
              "      <td>42.180000</td>\n",
              "      <td>23.610012</td>\n",
              "      <td>28.879999</td>\n",
              "      <td>50.654205</td>\n",
              "      <td>78.456314</td>\n",
              "      <td>46.189999</td>\n",
              "      <td>27.700001</td>\n",
              "    </tr>\n",
              "    <tr>\n",
              "      <th>...</th>\n",
              "      <td>...</td>\n",
              "      <td>...</td>\n",
              "      <td>...</td>\n",
              "      <td>...</td>\n",
              "      <td>...</td>\n",
              "      <td>...</td>\n",
              "      <td>...</td>\n",
              "      <td>...</td>\n",
              "      <td>...</td>\n",
              "      <td>...</td>\n",
              "      <td>...</td>\n",
              "      <td>...</td>\n",
              "      <td>...</td>\n",
              "      <td>...</td>\n",
              "      <td>...</td>\n",
              "      <td>...</td>\n",
              "      <td>...</td>\n",
              "      <td>...</td>\n",
              "      <td>...</td>\n",
              "      <td>...</td>\n",
              "      <td>...</td>\n",
              "    </tr>\n",
              "    <tr>\n",
              "      <th>2021-03-19</th>\n",
              "      <td>122.589996</td>\n",
              "      <td>24.700001</td>\n",
              "      <td>183.729996</td>\n",
              "      <td>120.529999</td>\n",
              "      <td>115.629997</td>\n",
              "      <td>298.859985</td>\n",
              "      <td>118.110001</td>\n",
              "      <td>266.890015</td>\n",
              "      <td>439.179993</td>\n",
              "      <td>149.449997</td>\n",
              "      <td>...</td>\n",
              "      <td>135.649994</td>\n",
              "      <td>62.400002</td>\n",
              "      <td>56.810001</td>\n",
              "      <td>63.049999</td>\n",
              "      <td>24.799999</td>\n",
              "      <td>104.169998</td>\n",
              "      <td>108.309998</td>\n",
              "      <td>154.262131</td>\n",
              "      <td>461.109985</td>\n",
              "      <td>57.299999</td>\n",
              "    </tr>\n",
              "    <tr>\n",
              "      <th>2021-03-22</th>\n",
              "      <td>122.690002</td>\n",
              "      <td>24.969999</td>\n",
              "      <td>186.000000</td>\n",
              "      <td>119.989998</td>\n",
              "      <td>115.919998</td>\n",
              "      <td>299.809998</td>\n",
              "      <td>120.250000</td>\n",
              "      <td>263.779999</td>\n",
              "      <td>441.500000</td>\n",
              "      <td>151.910004</td>\n",
              "      <td>...</td>\n",
              "      <td>135.479996</td>\n",
              "      <td>62.990002</td>\n",
              "      <td>56.490002</td>\n",
              "      <td>62.759998</td>\n",
              "      <td>24.790001</td>\n",
              "      <td>104.010002</td>\n",
              "      <td>107.959999</td>\n",
              "      <td>155.495148</td>\n",
              "      <td>459.950012</td>\n",
              "      <td>56.450001</td>\n",
              "    </tr>\n",
              "    <tr>\n",
              "      <th>2021-03-23</th>\n",
              "      <td>123.610001</td>\n",
              "      <td>23.830000</td>\n",
              "      <td>182.990005</td>\n",
              "      <td>123.389999</td>\n",
              "      <td>116.349998</td>\n",
              "      <td>306.160004</td>\n",
              "      <td>121.470001</td>\n",
              "      <td>265.200012</td>\n",
              "      <td>452.410004</td>\n",
              "      <td>154.500000</td>\n",
              "      <td>...</td>\n",
              "      <td>132.869995</td>\n",
              "      <td>63.750000</td>\n",
              "      <td>55.910000</td>\n",
              "      <td>62.439999</td>\n",
              "      <td>24.840000</td>\n",
              "      <td>102.430000</td>\n",
              "      <td>108.750000</td>\n",
              "      <td>155.572815</td>\n",
              "      <td>463.769989</td>\n",
              "      <td>55.279999</td>\n",
              "    </tr>\n",
              "    <tr>\n",
              "      <th>2021-03-24</th>\n",
              "      <td>121.980003</td>\n",
              "      <td>22.270000</td>\n",
              "      <td>179.529999</td>\n",
              "      <td>122.540001</td>\n",
              "      <td>113.769997</td>\n",
              "      <td>298.619995</td>\n",
              "      <td>120.489998</td>\n",
              "      <td>266.029999</td>\n",
              "      <td>460.200012</td>\n",
              "      <td>150.490005</td>\n",
              "      <td>...</td>\n",
              "      <td>125.150002</td>\n",
              "      <td>65.440002</td>\n",
              "      <td>55.220001</td>\n",
              "      <td>59.930000</td>\n",
              "      <td>23.629999</td>\n",
              "      <td>100.400002</td>\n",
              "      <td>108.000000</td>\n",
              "      <td>151.592239</td>\n",
              "      <td>462.649994</td>\n",
              "      <td>53.580002</td>\n",
              "    </tr>\n",
              "    <tr>\n",
              "      <th>2021-03-25</th>\n",
              "      <td>120.839996</td>\n",
              "      <td>21.809999</td>\n",
              "      <td>181.729996</td>\n",
              "      <td>120.089996</td>\n",
              "      <td>115.370003</td>\n",
              "      <td>294.209991</td>\n",
              "      <td>118.019997</td>\n",
              "      <td>267.549988</td>\n",
              "      <td>451.510010</td>\n",
              "      <td>150.440002</td>\n",
              "      <td>...</td>\n",
              "      <td>125.180000</td>\n",
              "      <td>65.580002</td>\n",
              "      <td>56.340000</td>\n",
              "      <td>60.349998</td>\n",
              "      <td>23.480000</td>\n",
              "      <td>101.110001</td>\n",
              "      <td>107.080002</td>\n",
              "      <td>152.864075</td>\n",
              "      <td>463.809998</td>\n",
              "      <td>53.009998</td>\n",
              "    </tr>\n",
              "  </tbody>\n",
              "</table>\n",
              "<p>1980 rows × 446 columns</p>\n",
              "</div>\n",
              "      <button class=\"colab-df-convert\" onclick=\"convertToInteractive('df-815220e0-7675-49c4-97c9-a0ab4d0d853c')\"\n",
              "              title=\"Convert this dataframe to an interactive table.\"\n",
              "              style=\"display:none;\">\n",
              "        \n",
              "  <svg xmlns=\"http://www.w3.org/2000/svg\" height=\"24px\"viewBox=\"0 0 24 24\"\n",
              "       width=\"24px\">\n",
              "    <path d=\"M0 0h24v24H0V0z\" fill=\"none\"/>\n",
              "    <path d=\"M18.56 5.44l.94 2.06.94-2.06 2.06-.94-2.06-.94-.94-2.06-.94 2.06-2.06.94zm-11 1L8.5 8.5l.94-2.06 2.06-.94-2.06-.94L8.5 2.5l-.94 2.06-2.06.94zm10 10l.94 2.06.94-2.06 2.06-.94-2.06-.94-.94-2.06-.94 2.06-2.06.94z\"/><path d=\"M17.41 7.96l-1.37-1.37c-.4-.4-.92-.59-1.43-.59-.52 0-1.04.2-1.43.59L10.3 9.45l-7.72 7.72c-.78.78-.78 2.05 0 2.83L4 21.41c.39.39.9.59 1.41.59.51 0 1.02-.2 1.41-.59l7.78-7.78 2.81-2.81c.8-.78.8-2.07 0-2.86zM5.41 20L4 18.59l7.72-7.72 1.47 1.35L5.41 20z\"/>\n",
              "  </svg>\n",
              "      </button>\n",
              "      \n",
              "  <style>\n",
              "    .colab-df-container {\n",
              "      display:flex;\n",
              "      flex-wrap:wrap;\n",
              "      gap: 12px;\n",
              "    }\n",
              "\n",
              "    .colab-df-convert {\n",
              "      background-color: #E8F0FE;\n",
              "      border: none;\n",
              "      border-radius: 50%;\n",
              "      cursor: pointer;\n",
              "      display: none;\n",
              "      fill: #1967D2;\n",
              "      height: 32px;\n",
              "      padding: 0 0 0 0;\n",
              "      width: 32px;\n",
              "    }\n",
              "\n",
              "    .colab-df-convert:hover {\n",
              "      background-color: #E2EBFA;\n",
              "      box-shadow: 0px 1px 2px rgba(60, 64, 67, 0.3), 0px 1px 3px 1px rgba(60, 64, 67, 0.15);\n",
              "      fill: #174EA6;\n",
              "    }\n",
              "\n",
              "    [theme=dark] .colab-df-convert {\n",
              "      background-color: #3B4455;\n",
              "      fill: #D2E3FC;\n",
              "    }\n",
              "\n",
              "    [theme=dark] .colab-df-convert:hover {\n",
              "      background-color: #434B5C;\n",
              "      box-shadow: 0px 1px 3px 1px rgba(0, 0, 0, 0.15);\n",
              "      filter: drop-shadow(0px 1px 2px rgba(0, 0, 0, 0.3));\n",
              "      fill: #FFFFFF;\n",
              "    }\n",
              "  </style>\n",
              "\n",
              "      <script>\n",
              "        const buttonEl =\n",
              "          document.querySelector('#df-815220e0-7675-49c4-97c9-a0ab4d0d853c button.colab-df-convert');\n",
              "        buttonEl.style.display =\n",
              "          google.colab.kernel.accessAllowed ? 'block' : 'none';\n",
              "\n",
              "        async function convertToInteractive(key) {\n",
              "          const element = document.querySelector('#df-815220e0-7675-49c4-97c9-a0ab4d0d853c');\n",
              "          const dataTable =\n",
              "            await google.colab.kernel.invokeFunction('convertToInteractive',\n",
              "                                                     [key], {});\n",
              "          if (!dataTable) return;\n",
              "\n",
              "          const docLinkHtml = 'Like what you see? Visit the ' +\n",
              "            '<a target=\"_blank\" href=https://colab.research.google.com/notebooks/data_table.ipynb>data table notebook</a>'\n",
              "            + ' to learn more about interactive tables.';\n",
              "          element.innerHTML = '';\n",
              "          dataTable['output_type'] = 'display_data';\n",
              "          await google.colab.output.renderOutput(dataTable, element);\n",
              "          const docLink = document.createElement('div');\n",
              "          docLink.innerHTML = docLinkHtml;\n",
              "          element.appendChild(docLink);\n",
              "        }\n",
              "      </script>\n",
              "    </div>\n",
              "  </div>\n",
              "  "
            ]
          },
          "metadata": {},
          "execution_count": 50
        }
      ]
    },
    {
      "cell_type": "code",
      "execution_count": 51,
      "metadata": {
        "id": "omyPKMaxXILi",
        "colab": {
          "base_uri": "https://localhost:8080/",
          "height": 779
        },
        "outputId": "68bbdcb8-e514-42f0-f208-811e9c8d83c6"
      },
      "outputs": [
        {
          "output_type": "execute_result",
          "data": {
            "text/plain": [
              "tic                 A        AAL         AAP       AAPL        ABC       ABMD  \\\n",
              "date                                                                            \n",
              "2013-05-15  48.911514  18.379246   92.993141  21.913532  66.705635  21.804447   \n",
              "2013-05-16  50.172375  17.855078   93.299644  21.868214  66.426193  25.214874   \n",
              "2013-05-17  50.161278  18.230740   95.285133  21.107624  66.402924  23.690891   \n",
              "2013-05-20  48.916416  18.278784   93.291328  20.988586  66.174622  23.185917   \n",
              "2013-05-21  48.639515  18.114859   93.008286  20.551220  66.800423  23.540337   \n",
              "...               ...        ...         ...        ...        ...        ...   \n",
              "2021-03-19  66.620819  32.554604  155.755981  57.594105  92.838875  33.525166   \n",
              "2021-03-22  75.603416  32.358196  155.143051  55.590145  92.692726  28.971861   \n",
              "2021-03-23  68.833702  32.037521  152.666321  58.679256  96.015648  31.247559   \n",
              "2021-03-24  72.789421  32.596241  155.009262  55.192825  91.697777  30.399996   \n",
              "2021-03-25  66.963165  31.812622  159.570038  58.750088  97.292053  31.556107   \n",
              "\n",
              "tic               ABT         ACN        ADBE        ADI  ...        WYNN  \\\n",
              "date                                                      ...               \n",
              "2013-05-15  55.638577  142.467041   73.369759  62.369980  ...  137.551697   \n",
              "2013-05-16  56.863377  144.325790   68.536568  61.832661  ...  135.668198   \n",
              "2013-05-17  56.221107  146.206970   71.967964  61.267384  ...  138.385284   \n",
              "2013-05-20  57.250858  148.040283   77.600243  61.179779  ...  137.623444   \n",
              "2013-05-21  57.399475  145.983292   74.293198  61.349964  ...  136.574554   \n",
              "...               ...         ...         ...        ...  ...         ...   \n",
              "2021-03-19  71.356346  148.422318  163.765381  69.803711  ...  194.507996   \n",
              "2021-03-22  71.650352  144.236023  151.318314  72.602005  ...  195.010300   \n",
              "2021-03-23  69.918625  146.376999  154.193054  69.713936  ...  190.066681   \n",
              "2021-03-24  66.136574  144.710648  173.686325  69.854439  ...  191.239883   \n",
              "2021-03-25  68.658913  147.752899  156.031250  68.231857  ...  189.485626   \n",
              "\n",
              "tic               XEL        XOM       XRAY        XRX        XYL        YUM  \\\n",
              "date                                                                           \n",
              "2013-05-15  34.008141  78.080406  39.612225  22.362192  34.080292  56.863979   \n",
              "2013-05-16  34.020428  78.695770  39.268990  22.531139  34.412289  57.251354   \n",
              "2013-05-17  33.927395  79.146309  39.659691  22.587601  34.076267  57.347034   \n",
              "2013-05-20  34.042076  79.286270  39.321918  22.778847  34.604965  58.568634   \n",
              "2013-05-21  33.752403  80.078300  39.325928  22.657961  33.887783  58.180386   \n",
              "...               ...        ...        ...        ...        ...        ...   \n",
              "2021-03-19  35.328911  82.498978  41.289028  33.956406  46.586720  58.727215   \n",
              "2021-03-22  36.017593  83.208641  42.001472  33.692116  47.710224  58.700260   \n",
              "2021-03-23  36.199730  83.130127  40.731930  33.587414  47.829433  57.602497   \n",
              "2021-03-24  36.992996  84.253563  40.907867  33.797417  48.618271  58.141640   \n",
              "2021-03-25  36.344273  83.207695  40.616604  33.259125  48.669350  57.405434   \n",
              "\n",
              "tic                ZBH        ZBRA       ZION  \n",
              "date                                           \n",
              "2013-05-15   91.438438   96.812080  31.973284  \n",
              "2013-05-16   91.680878   92.975792  31.909096  \n",
              "2013-05-17   92.056686   98.946640  32.397598  \n",
              "2013-05-20   92.226402   95.628761  32.091408  \n",
              "2013-05-21   92.374504   98.976685  32.409016  \n",
              "...                ...         ...        ...  \n",
              "2021-03-19  115.509178  213.877594  35.112579  \n",
              "2021-03-22  120.231606  223.557785  35.045147  \n",
              "2021-03-23  121.889252  209.180359  34.386787  \n",
              "2021-03-24  118.767021  198.887253  34.993103  \n",
              "2021-03-25  120.880936  215.513870  34.364697  \n",
              "\n",
              "[1980 rows x 446 columns]"
            ],
            "text/html": [
              "\n",
              "  <div id=\"df-c132b8b5-aed9-407e-a2fa-87c0cbd669c1\">\n",
              "    <div class=\"colab-df-container\">\n",
              "      <div>\n",
              "<style scoped>\n",
              "    .dataframe tbody tr th:only-of-type {\n",
              "        vertical-align: middle;\n",
              "    }\n",
              "\n",
              "    .dataframe tbody tr th {\n",
              "        vertical-align: top;\n",
              "    }\n",
              "\n",
              "    .dataframe thead th {\n",
              "        text-align: right;\n",
              "    }\n",
              "</style>\n",
              "<table border=\"1\" class=\"dataframe\">\n",
              "  <thead>\n",
              "    <tr style=\"text-align: right;\">\n",
              "      <th>tic</th>\n",
              "      <th>A</th>\n",
              "      <th>AAL</th>\n",
              "      <th>AAP</th>\n",
              "      <th>AAPL</th>\n",
              "      <th>ABC</th>\n",
              "      <th>ABMD</th>\n",
              "      <th>ABT</th>\n",
              "      <th>ACN</th>\n",
              "      <th>ADBE</th>\n",
              "      <th>ADI</th>\n",
              "      <th>...</th>\n",
              "      <th>WYNN</th>\n",
              "      <th>XEL</th>\n",
              "      <th>XOM</th>\n",
              "      <th>XRAY</th>\n",
              "      <th>XRX</th>\n",
              "      <th>XYL</th>\n",
              "      <th>YUM</th>\n",
              "      <th>ZBH</th>\n",
              "      <th>ZBRA</th>\n",
              "      <th>ZION</th>\n",
              "    </tr>\n",
              "    <tr>\n",
              "      <th>date</th>\n",
              "      <th></th>\n",
              "      <th></th>\n",
              "      <th></th>\n",
              "      <th></th>\n",
              "      <th></th>\n",
              "      <th></th>\n",
              "      <th></th>\n",
              "      <th></th>\n",
              "      <th></th>\n",
              "      <th></th>\n",
              "      <th></th>\n",
              "      <th></th>\n",
              "      <th></th>\n",
              "      <th></th>\n",
              "      <th></th>\n",
              "      <th></th>\n",
              "      <th></th>\n",
              "      <th></th>\n",
              "      <th></th>\n",
              "      <th></th>\n",
              "      <th></th>\n",
              "    </tr>\n",
              "  </thead>\n",
              "  <tbody>\n",
              "    <tr>\n",
              "      <th>2013-05-15</th>\n",
              "      <td>48.911514</td>\n",
              "      <td>18.379246</td>\n",
              "      <td>92.993141</td>\n",
              "      <td>21.913532</td>\n",
              "      <td>66.705635</td>\n",
              "      <td>21.804447</td>\n",
              "      <td>55.638577</td>\n",
              "      <td>142.467041</td>\n",
              "      <td>73.369759</td>\n",
              "      <td>62.369980</td>\n",
              "      <td>...</td>\n",
              "      <td>137.551697</td>\n",
              "      <td>34.008141</td>\n",
              "      <td>78.080406</td>\n",
              "      <td>39.612225</td>\n",
              "      <td>22.362192</td>\n",
              "      <td>34.080292</td>\n",
              "      <td>56.863979</td>\n",
              "      <td>91.438438</td>\n",
              "      <td>96.812080</td>\n",
              "      <td>31.973284</td>\n",
              "    </tr>\n",
              "    <tr>\n",
              "      <th>2013-05-16</th>\n",
              "      <td>50.172375</td>\n",
              "      <td>17.855078</td>\n",
              "      <td>93.299644</td>\n",
              "      <td>21.868214</td>\n",
              "      <td>66.426193</td>\n",
              "      <td>25.214874</td>\n",
              "      <td>56.863377</td>\n",
              "      <td>144.325790</td>\n",
              "      <td>68.536568</td>\n",
              "      <td>61.832661</td>\n",
              "      <td>...</td>\n",
              "      <td>135.668198</td>\n",
              "      <td>34.020428</td>\n",
              "      <td>78.695770</td>\n",
              "      <td>39.268990</td>\n",
              "      <td>22.531139</td>\n",
              "      <td>34.412289</td>\n",
              "      <td>57.251354</td>\n",
              "      <td>91.680878</td>\n",
              "      <td>92.975792</td>\n",
              "      <td>31.909096</td>\n",
              "    </tr>\n",
              "    <tr>\n",
              "      <th>2013-05-17</th>\n",
              "      <td>50.161278</td>\n",
              "      <td>18.230740</td>\n",
              "      <td>95.285133</td>\n",
              "      <td>21.107624</td>\n",
              "      <td>66.402924</td>\n",
              "      <td>23.690891</td>\n",
              "      <td>56.221107</td>\n",
              "      <td>146.206970</td>\n",
              "      <td>71.967964</td>\n",
              "      <td>61.267384</td>\n",
              "      <td>...</td>\n",
              "      <td>138.385284</td>\n",
              "      <td>33.927395</td>\n",
              "      <td>79.146309</td>\n",
              "      <td>39.659691</td>\n",
              "      <td>22.587601</td>\n",
              "      <td>34.076267</td>\n",
              "      <td>57.347034</td>\n",
              "      <td>92.056686</td>\n",
              "      <td>98.946640</td>\n",
              "      <td>32.397598</td>\n",
              "    </tr>\n",
              "    <tr>\n",
              "      <th>2013-05-20</th>\n",
              "      <td>48.916416</td>\n",
              "      <td>18.278784</td>\n",
              "      <td>93.291328</td>\n",
              "      <td>20.988586</td>\n",
              "      <td>66.174622</td>\n",
              "      <td>23.185917</td>\n",
              "      <td>57.250858</td>\n",
              "      <td>148.040283</td>\n",
              "      <td>77.600243</td>\n",
              "      <td>61.179779</td>\n",
              "      <td>...</td>\n",
              "      <td>137.623444</td>\n",
              "      <td>34.042076</td>\n",
              "      <td>79.286270</td>\n",
              "      <td>39.321918</td>\n",
              "      <td>22.778847</td>\n",
              "      <td>34.604965</td>\n",
              "      <td>58.568634</td>\n",
              "      <td>92.226402</td>\n",
              "      <td>95.628761</td>\n",
              "      <td>32.091408</td>\n",
              "    </tr>\n",
              "    <tr>\n",
              "      <th>2013-05-21</th>\n",
              "      <td>48.639515</td>\n",
              "      <td>18.114859</td>\n",
              "      <td>93.008286</td>\n",
              "      <td>20.551220</td>\n",
              "      <td>66.800423</td>\n",
              "      <td>23.540337</td>\n",
              "      <td>57.399475</td>\n",
              "      <td>145.983292</td>\n",
              "      <td>74.293198</td>\n",
              "      <td>61.349964</td>\n",
              "      <td>...</td>\n",
              "      <td>136.574554</td>\n",
              "      <td>33.752403</td>\n",
              "      <td>80.078300</td>\n",
              "      <td>39.325928</td>\n",
              "      <td>22.657961</td>\n",
              "      <td>33.887783</td>\n",
              "      <td>58.180386</td>\n",
              "      <td>92.374504</td>\n",
              "      <td>98.976685</td>\n",
              "      <td>32.409016</td>\n",
              "    </tr>\n",
              "    <tr>\n",
              "      <th>...</th>\n",
              "      <td>...</td>\n",
              "      <td>...</td>\n",
              "      <td>...</td>\n",
              "      <td>...</td>\n",
              "      <td>...</td>\n",
              "      <td>...</td>\n",
              "      <td>...</td>\n",
              "      <td>...</td>\n",
              "      <td>...</td>\n",
              "      <td>...</td>\n",
              "      <td>...</td>\n",
              "      <td>...</td>\n",
              "      <td>...</td>\n",
              "      <td>...</td>\n",
              "      <td>...</td>\n",
              "      <td>...</td>\n",
              "      <td>...</td>\n",
              "      <td>...</td>\n",
              "      <td>...</td>\n",
              "      <td>...</td>\n",
              "      <td>...</td>\n",
              "    </tr>\n",
              "    <tr>\n",
              "      <th>2021-03-19</th>\n",
              "      <td>66.620819</td>\n",
              "      <td>32.554604</td>\n",
              "      <td>155.755981</td>\n",
              "      <td>57.594105</td>\n",
              "      <td>92.838875</td>\n",
              "      <td>33.525166</td>\n",
              "      <td>71.356346</td>\n",
              "      <td>148.422318</td>\n",
              "      <td>163.765381</td>\n",
              "      <td>69.803711</td>\n",
              "      <td>...</td>\n",
              "      <td>194.507996</td>\n",
              "      <td>35.328911</td>\n",
              "      <td>82.498978</td>\n",
              "      <td>41.289028</td>\n",
              "      <td>33.956406</td>\n",
              "      <td>46.586720</td>\n",
              "      <td>58.727215</td>\n",
              "      <td>115.509178</td>\n",
              "      <td>213.877594</td>\n",
              "      <td>35.112579</td>\n",
              "    </tr>\n",
              "    <tr>\n",
              "      <th>2021-03-22</th>\n",
              "      <td>75.603416</td>\n",
              "      <td>32.358196</td>\n",
              "      <td>155.143051</td>\n",
              "      <td>55.590145</td>\n",
              "      <td>92.692726</td>\n",
              "      <td>28.971861</td>\n",
              "      <td>71.650352</td>\n",
              "      <td>144.236023</td>\n",
              "      <td>151.318314</td>\n",
              "      <td>72.602005</td>\n",
              "      <td>...</td>\n",
              "      <td>195.010300</td>\n",
              "      <td>36.017593</td>\n",
              "      <td>83.208641</td>\n",
              "      <td>42.001472</td>\n",
              "      <td>33.692116</td>\n",
              "      <td>47.710224</td>\n",
              "      <td>58.700260</td>\n",
              "      <td>120.231606</td>\n",
              "      <td>223.557785</td>\n",
              "      <td>35.045147</td>\n",
              "    </tr>\n",
              "    <tr>\n",
              "      <th>2021-03-23</th>\n",
              "      <td>68.833702</td>\n",
              "      <td>32.037521</td>\n",
              "      <td>152.666321</td>\n",
              "      <td>58.679256</td>\n",
              "      <td>96.015648</td>\n",
              "      <td>31.247559</td>\n",
              "      <td>69.918625</td>\n",
              "      <td>146.376999</td>\n",
              "      <td>154.193054</td>\n",
              "      <td>69.713936</td>\n",
              "      <td>...</td>\n",
              "      <td>190.066681</td>\n",
              "      <td>36.199730</td>\n",
              "      <td>83.130127</td>\n",
              "      <td>40.731930</td>\n",
              "      <td>33.587414</td>\n",
              "      <td>47.829433</td>\n",
              "      <td>57.602497</td>\n",
              "      <td>121.889252</td>\n",
              "      <td>209.180359</td>\n",
              "      <td>34.386787</td>\n",
              "    </tr>\n",
              "    <tr>\n",
              "      <th>2021-03-24</th>\n",
              "      <td>72.789421</td>\n",
              "      <td>32.596241</td>\n",
              "      <td>155.009262</td>\n",
              "      <td>55.192825</td>\n",
              "      <td>91.697777</td>\n",
              "      <td>30.399996</td>\n",
              "      <td>66.136574</td>\n",
              "      <td>144.710648</td>\n",
              "      <td>173.686325</td>\n",
              "      <td>69.854439</td>\n",
              "      <td>...</td>\n",
              "      <td>191.239883</td>\n",
              "      <td>36.992996</td>\n",
              "      <td>84.253563</td>\n",
              "      <td>40.907867</td>\n",
              "      <td>33.797417</td>\n",
              "      <td>48.618271</td>\n",
              "      <td>58.141640</td>\n",
              "      <td>118.767021</td>\n",
              "      <td>198.887253</td>\n",
              "      <td>34.993103</td>\n",
              "    </tr>\n",
              "    <tr>\n",
              "      <th>2021-03-25</th>\n",
              "      <td>66.963165</td>\n",
              "      <td>31.812622</td>\n",
              "      <td>159.570038</td>\n",
              "      <td>58.750088</td>\n",
              "      <td>97.292053</td>\n",
              "      <td>31.556107</td>\n",
              "      <td>68.658913</td>\n",
              "      <td>147.752899</td>\n",
              "      <td>156.031250</td>\n",
              "      <td>68.231857</td>\n",
              "      <td>...</td>\n",
              "      <td>189.485626</td>\n",
              "      <td>36.344273</td>\n",
              "      <td>83.207695</td>\n",
              "      <td>40.616604</td>\n",
              "      <td>33.259125</td>\n",
              "      <td>48.669350</td>\n",
              "      <td>57.405434</td>\n",
              "      <td>120.880936</td>\n",
              "      <td>215.513870</td>\n",
              "      <td>34.364697</td>\n",
              "    </tr>\n",
              "  </tbody>\n",
              "</table>\n",
              "<p>1980 rows × 446 columns</p>\n",
              "</div>\n",
              "      <button class=\"colab-df-convert\" onclick=\"convertToInteractive('df-c132b8b5-aed9-407e-a2fa-87c0cbd669c1')\"\n",
              "              title=\"Convert this dataframe to an interactive table.\"\n",
              "              style=\"display:none;\">\n",
              "        \n",
              "  <svg xmlns=\"http://www.w3.org/2000/svg\" height=\"24px\"viewBox=\"0 0 24 24\"\n",
              "       width=\"24px\">\n",
              "    <path d=\"M0 0h24v24H0V0z\" fill=\"none\"/>\n",
              "    <path d=\"M18.56 5.44l.94 2.06.94-2.06 2.06-.94-2.06-.94-.94-2.06-.94 2.06-2.06.94zm-11 1L8.5 8.5l.94-2.06 2.06-.94-2.06-.94L8.5 2.5l-.94 2.06-2.06.94zm10 10l.94 2.06.94-2.06 2.06-.94-2.06-.94-.94-2.06-.94 2.06-2.06.94z\"/><path d=\"M17.41 7.96l-1.37-1.37c-.4-.4-.92-.59-1.43-.59-.52 0-1.04.2-1.43.59L10.3 9.45l-7.72 7.72c-.78.78-.78 2.05 0 2.83L4 21.41c.39.39.9.59 1.41.59.51 0 1.02-.2 1.41-.59l7.78-7.78 2.81-2.81c.8-.78.8-2.07 0-2.86zM5.41 20L4 18.59l7.72-7.72 1.47 1.35L5.41 20z\"/>\n",
              "  </svg>\n",
              "      </button>\n",
              "      \n",
              "  <style>\n",
              "    .colab-df-container {\n",
              "      display:flex;\n",
              "      flex-wrap:wrap;\n",
              "      gap: 12px;\n",
              "    }\n",
              "\n",
              "    .colab-df-convert {\n",
              "      background-color: #E8F0FE;\n",
              "      border: none;\n",
              "      border-radius: 50%;\n",
              "      cursor: pointer;\n",
              "      display: none;\n",
              "      fill: #1967D2;\n",
              "      height: 32px;\n",
              "      padding: 0 0 0 0;\n",
              "      width: 32px;\n",
              "    }\n",
              "\n",
              "    .colab-df-convert:hover {\n",
              "      background-color: #E2EBFA;\n",
              "      box-shadow: 0px 1px 2px rgba(60, 64, 67, 0.3), 0px 1px 3px 1px rgba(60, 64, 67, 0.15);\n",
              "      fill: #174EA6;\n",
              "    }\n",
              "\n",
              "    [theme=dark] .colab-df-convert {\n",
              "      background-color: #3B4455;\n",
              "      fill: #D2E3FC;\n",
              "    }\n",
              "\n",
              "    [theme=dark] .colab-df-convert:hover {\n",
              "      background-color: #434B5C;\n",
              "      box-shadow: 0px 1px 3px 1px rgba(0, 0, 0, 0.15);\n",
              "      filter: drop-shadow(0px 1px 2px rgba(0, 0, 0, 0.3));\n",
              "      fill: #FFFFFF;\n",
              "    }\n",
              "  </style>\n",
              "\n",
              "      <script>\n",
              "        const buttonEl =\n",
              "          document.querySelector('#df-c132b8b5-aed9-407e-a2fa-87c0cbd669c1 button.colab-df-convert');\n",
              "        buttonEl.style.display =\n",
              "          google.colab.kernel.accessAllowed ? 'block' : 'none';\n",
              "\n",
              "        async function convertToInteractive(key) {\n",
              "          const element = document.querySelector('#df-c132b8b5-aed9-407e-a2fa-87c0cbd669c1');\n",
              "          const dataTable =\n",
              "            await google.colab.kernel.invokeFunction('convertToInteractive',\n",
              "                                                     [key], {});\n",
              "          if (!dataTable) return;\n",
              "\n",
              "          const docLinkHtml = 'Like what you see? Visit the ' +\n",
              "            '<a target=\"_blank\" href=https://colab.research.google.com/notebooks/data_table.ipynb>data table notebook</a>'\n",
              "            + ' to learn more about interactive tables.';\n",
              "          element.innerHTML = '';\n",
              "          dataTable['output_type'] = 'display_data';\n",
              "          await google.colab.output.renderOutput(dataTable, element);\n",
              "          const docLink = document.createElement('div');\n",
              "          docLink.innerHTML = docLinkHtml;\n",
              "          element.appendChild(docLink);\n",
              "        }\n",
              "      </script>\n",
              "    </div>\n",
              "  </div>\n",
              "  "
            ]
          },
          "metadata": {},
          "execution_count": 51
        }
      ],
      "source": [
        "predicted_prices"
      ]
    },
    {
      "cell_type": "code",
      "execution_count": 52,
      "metadata": {
        "id": "y_OJTX9qYNwp",
        "colab": {
          "base_uri": "https://localhost:8080/"
        },
        "outputId": "be354c7a-8158-4f64-ecfe-6a57bb2066a3"
      },
      "outputs": [
        {
          "output_type": "stream",
          "name": "stdout",
          "text": [
            "Drive already mounted at drive; to attempt to forcibly remount, call drive.mount(\"drive\", force_remount=True).\n"
          ]
        }
      ],
      "source": [
        "from google.colab import drive\n",
        "drive.mount('drive')"
      ]
    },
    {
      "cell_type": "code",
      "execution_count": 53,
      "metadata": {
        "id": "rx4h8w3LYW-f"
      },
      "outputs": [],
      "source": [
        "predicted_prices.to_csv(path + '/PCA_Predicted_Prices1.csv')\n",
        "#!cp PCA_Predicted_Prices1.csv \"drive/My Drive/Machine Learning Project/ML Section Exports\""
      ]
    },
    {
      "cell_type": "code",
      "execution_count": 54,
      "metadata": {
        "id": "hykop5FIY1-o"
      },
      "outputs": [],
      "source": [
        "actual_prices.to_csv(path +'/PCA_Actual_Prices1.csv')\n",
        "#!cp PCA_Actual_Prices1.csv \"drive/My Drive/Machine Learning Project/ML Section Exports\""
      ]
    }
  ],
  "metadata": {
    "accelerator": "GPU",
    "colab": {
      "collapsed_sections": [],
      "machine_shape": "hm",
      "name": "2_PCA_+_LSTM.ipynb",
      "provenance": [],
      "toc_visible": true
    },
    "kernelspec": {
      "display_name": "Python 3 (ipykernel)",
      "language": "python",
      "name": "python3"
    },
    "language_info": {
      "codemirror_mode": {
        "name": "ipython",
        "version": 3
      },
      "file_extension": ".py",
      "mimetype": "text/x-python",
      "name": "python",
      "nbconvert_exporter": "python",
      "pygments_lexer": "ipython3",
      "version": "3.7.11"
    }
  },
  "nbformat": 4,
  "nbformat_minor": 0
}